{
 "cells": [
  {
   "cell_type": "code",
   "execution_count": null,
   "id": "40d27f8d",
   "metadata": {},
   "outputs": [],
   "source": [
    "import numpy as np\n",
    "import pandas as pd\n",
    "import matplotlib.pyplot as plt\n",
    "\n",
    "pd.set_option('display.max_rows', None)\n",
    "global swiss"
   ]
  },
  {
   "cell_type": "code",
   "execution_count": null,
   "id": "aab846f8",
   "metadata": {},
   "outputs": [],
   "source": [
    "# Import dataset \n",
    "data = pd.read_csv('./data/airline.csv')"
   ]
  },
  {
   "cell_type": "code",
   "execution_count": null,
   "id": "d7fa439c",
   "metadata": {},
   "outputs": [],
   "source": [
    "def reset():\n",
    "    global swiss\n",
    "    swiss = data[data[\"airline_name\"] == \"swiss-international-air-lines\"]"
   ]
  },
  {
   "cell_type": "markdown",
   "id": "79f23252",
   "metadata": {},
   "source": [
    "# Analysiere Kundenbewertungen der Swiss im Zeitraum von 2012 bis 2015"
   ]
  },
  {
   "cell_type": "markdown",
   "id": "478c0c0d",
   "metadata": {},
   "source": [
    "In den Jahren 2012 - 2015 betrug die jährliche Zahl der Fluggäste etwa  17 Mio. (Quelle: https://de.statista.com/statistik/daten/studie/291651/umfrage/fluggaeste-von-swiss/)"
   ]
  },
  {
   "cell_type": "code",
   "execution_count": null,
   "id": "ce75b429",
   "metadata": {},
   "outputs": [],
   "source": [
    "# Datensatz für SWISS Interantional Airlines herausfiltern und Länge ermitteln\n",
    "swiss = data[data[\"airline_name\"] == \"swiss-international-air-lines\"]\n",
    "print(f\"Der Datensatz enthält {len(swiss)} Datenpunkte\")\n",
    "\n",
    "# reset DataFrame index\n",
    "swiss = swiss.reset_index(drop=True)"
   ]
  },
  {
   "cell_type": "markdown",
   "id": "35991342",
   "metadata": {},
   "source": [
    "## Preprocessing"
   ]
  },
  {
   "cell_type": "markdown",
   "id": "d51e471f",
   "metadata": {},
   "source": [
    "### Data Cleaning"
   ]
  },
  {
   "cell_type": "markdown",
   "id": "301a6090",
   "metadata": {},
   "source": [
    "Zuerst werden alle Spalten entfernt, die keinen (unmittelbaren) Einfluss auf die Bewertung des Fluggastes haben (Metadaten):\n",
    "* **link**: Link zur Datenquelle (irrelevant) -> **drop**\n",
    "* **author & author_country**: Name und Herkunft des Autors (irrelevant) -> **drop**\n",
    "* **airline_name**: Für alle Datenpunkte gleich, da nur Swiss betrachtet wird -> **drop**\n",
    "* **title**: Auch für alle Datenpunkte gleich -> **drop** \n",
    "* **date**: Saisonale Effekte und zeitliche Veränderungen sollen vernachlässigt werden -> **drop**\n",
    "\n",
    "Folgende Variablen können einen Einfluss auf die Zufriedenheit der Kunden haben \n",
    "* **aircraft**: Leider nur für 14 der 336 Datenpunkte erfasst, der Flugzeugtyp kann aber prinzipiell die Kundenzufriedenheit beeinflussen (Beispiel A380 wird von Fluggästen sehr positiv wahrgenommen) -> Flugzeugtyp könnte aber aus anderen Datenquellen ergänzt werden, wenn Flugnummer und/oder Flugsegmente bekannt sind (FlighRadar24, interne Datenbank) -> hier aber **drop**\n",
    "* **route**: Auch hier nur vereinzelt Daten vorhanden, viele Passagiere bewerten ihre gesamte Reise, die oft auch aus mehreren Flugsegmenten besteht. Route könnte bei Bedarf teilweise aus **content** abgeleitet werden. Für diesen vereinfachten Fall wird das gesamte Reiseerlebnis mit Swiss betrachtet, unabhängig von Route und möglichen Umstiegen -> **drop**\n",
    "* **content**: Geschriebene Bewertung der Nutzer und ist für alle Datenpunkte vorhanden. Enthält sehr viele Infos zu Route, Aircraft und allgemeinenen Zufriedenheit, die durch Natural Language Processing (NLP) extrahiert werden könnten. **Sehr wertvolle Daten, bei denen sich grundsätzlich eine weiterführende Analyse anbietet** -> werden in der Variable **writtenReview** abgespeichert \n",
    "* **type traveller**: Geschäftsreisende haben andere (oft höhere) Ansprüche an das Produkt, als Privatreisende. Allerdings sind auch hier nur unzureichende Daten vorhanden -> **drop**"
   ]
  },
  {
   "cell_type": "code",
   "execution_count": null,
   "id": "270f35d7",
   "metadata": {},
   "outputs": [],
   "source": [
    "writtenReview = swiss['content']\n",
    "swiss = swiss.drop(columns={\"link\", \"author\", \"author_country\", \"airline_name\", \"title\", \n",
    "                             \"date\", \"aircraft\", \"route\", \"content\", \"type_traveller\"})"
   ]
  },
  {
   "cell_type": "markdown",
   "id": "9d0f0d40",
   "metadata": {},
   "source": [
    "Somit bleiben folgende Variablen übrig, die einen direkten Einfluss auf die Kundenzufriedenheit haben:\n",
    "* **cabin_flown**\n",
    "* **overall_rating**\n",
    "* **seat_comfort_rating**\n",
    "* **cabin_staff_rating**\n",
    "* **food_beverages_rating**\n",
    "* **inflight_entertainment_rating**\n",
    "* **ground_service_rating**\n",
    "* **wifi_connectivity_rating**\n",
    "* **value_money_rating**\n",
    "* **recommended**"
   ]
  },
  {
   "cell_type": "markdown",
   "id": "6a8550b3",
   "metadata": {},
   "source": [
    "### Fehlende Werte\n",
    "Im nächsten Schritt wird ermittelt, wie viele fehlende Werte es pro Merkmal gibt und danach eine Strategie entwickelt diese zu ersetzen"
   ]
  },
  {
   "cell_type": "code",
   "execution_count": null,
   "id": "4abe6035",
   "metadata": {},
   "outputs": [],
   "source": [
    "for col in swiss.columns:\n",
    "    numberMissing = swiss[col].isna().sum()\n",
    "    if numberMissing > 0 :\n",
    "        print(f'Variable : {col} : {numberMissing} missing values')"
   ]
  },
  {
   "cell_type": "markdown",
   "id": "a0b895e1",
   "metadata": {},
   "source": [
    "Die Merkmale **ground_service_rating** und **wifi_connectivity_rating** fehlen bei fast allen Bewertungen. Nachfolgend wird angenommen, dass der Ground Service im Vergleich zu den direkt mit dem Flug verbundenen Kriterien wie Sitz, Flugpersonal, Essen- und Trinken, etc. eine untergeordnete Rolle spiel und vernachlässigt werden kann. Da Internet an Bord erst mit Einführung der 777-300ER flächendeckend bei Swiss eingeführt wurde (Quelle: https://www.swiss.com/corporate/DE/medien/newsroom/medienmitteilungen/media-release-20160127), wird dieses Merkmal ebenfalls vernachlässigt  "
   ]
  },
  {
   "cell_type": "code",
   "execution_count": null,
   "id": "ca87efc4",
   "metadata": {},
   "outputs": [],
   "source": [
    "# drop columns for ground_service_rating and wifi_connectivity_rating\n",
    "swiss = swiss.drop(columns={\"wifi_connectivity_rating\", \"ground_service_rating\"})"
   ]
  },
  {
   "cell_type": "code",
   "execution_count": null,
   "id": "217c7a1d",
   "metadata": {},
   "outputs": [],
   "source": [
    "# show remaining columns with missing values\n",
    "for col in swiss.columns:\n",
    "    numberMissing = swiss[col].isna().sum()\n",
    "    if numberMissing > 0 :\n",
    "        print(f'Variable : {col} : {numberMissing} missing values')"
   ]
  },
  {
   "cell_type": "code",
   "execution_count": null,
   "id": "3303f66e",
   "metadata": {},
   "outputs": [],
   "source": [
    "# get indices for rows with missing overall rating\n",
    "ifeNaNIndex = swiss[swiss['inflight_entertainment_rating'].isna()==True].index\n",
    "\n",
    "# show rows with NaN for inflight entertainment before replacement\n",
    "swiss.loc[ifeNaNIndex]"
   ]
  },
  {
   "cell_type": "code",
   "execution_count": null,
   "id": "36c45f16",
   "metadata": {},
   "outputs": [],
   "source": [
    "# Replace missing values for inflight entertainment with mean\n",
    "swiss['inflight_entertainment_rating'].fillna(\n",
    "    value=np.around(swiss['inflight_entertainment_rating'].mean()), inplace=True)\n",
    "\n",
    "# show rows with replaced values\n",
    "swiss.loc[ifeNaNIndex]"
   ]
  },
  {
   "cell_type": "code",
   "execution_count": null,
   "id": "373bd233",
   "metadata": {},
   "outputs": [],
   "source": [
    "# get indices for rows with missing overall rating\n",
    "ratingNaNIndex = swiss[swiss['overall_rating'].isna()==True].index\n",
    "\n",
    "# show rows with NaN for overall_rating\n",
    "swiss.loc[ratingNaNIndex]"
   ]
  },
  {
   "cell_type": "code",
   "execution_count": null,
   "id": "dd42f738",
   "metadata": {},
   "outputs": [],
   "source": [
    "# replace NaNs for overall rating with mean of all other ratings\n",
    "for index in ratingNaNIndex:\n",
    "    replaceValue = swiss[['seat_comfort_rating','cabin_staff_rating','food_beverages_rating',\n",
    "                          'inflight_entertainment_rating','value_money_rating']].iloc[index].mean()\n",
    "    swiss.loc[index,'overall_rating'] = max(np.around(replaceValue),1)\n",
    "\n",
    "# show replaced values\n",
    "swiss.loc[ratingNaNIndex]"
   ]
  },
  {
   "cell_type": "code",
   "execution_count": null,
   "id": "4be02ca1",
   "metadata": {},
   "outputs": [],
   "source": [
    "assert swiss.isna().sum().sum() == 0, \"There are still NaN values in dataset\""
   ]
  }
 ],
 "metadata": {
  "kernelspec": {
   "display_name": "Python 3 (ipykernel)",
   "language": "python",
   "name": "python3"
  },
  "language_info": {
   "codemirror_mode": {
    "name": "ipython",
    "version": 3
   },
   "file_extension": ".py",
   "mimetype": "text/x-python",
   "name": "python",
   "nbconvert_exporter": "python",
   "pygments_lexer": "ipython3",
   "version": "3.10.4"
  }
 },
 "nbformat": 4,
 "nbformat_minor": 5
}
