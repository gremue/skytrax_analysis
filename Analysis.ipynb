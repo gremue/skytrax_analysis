{
 "cells": [
  {
   "cell_type": "code",
   "execution_count": 82,
   "id": "40d27f8d",
   "metadata": {},
   "outputs": [],
   "source": [
    "import numpy as np\n",
    "import pandas as pd\n",
    "import matplotlib.pyplot as plt\n",
    "import seaborn as sns\n",
    "\n",
    "pd.set_option('display.max_rows', None)\n",
    "global swiss\n",
    "\n",
    "pos = '#FF7518' # pumpkin orange\n",
    "neg = '#18A2FF' # complementary color\n",
    "\n",
    "# Corporate colors for airlines from https://www.schemecolor.com/\n",
    "\n",
    "lhBlue = '#00235F'\n",
    "lxRed = '#E60005'\n",
    "osRed = '#e71c23'\n",
    "\n",
    "siaOrange = '#fcb130'\n",
    "cathayGreen = '#00645a'\n",
    "qatarGrey = '#747f8a'\n",
    "garudaBlue = '#002561'\n",
    "\n",
    "unitedBlue = '#005daa'\n",
    "americanGray = '#C7CFD7'\n",
    "deltaBlue = '#003268'\n",
    "deltaRed = '#9b1631'"
   ]
  },
  {
   "cell_type": "code",
   "execution_count": 83,
   "id": "aab846f8",
   "metadata": {},
   "outputs": [],
   "source": [
    "# Import dataset \n",
    "data = pd.read_csv('./data/airline.csv')"
   ]
  },
  {
   "cell_type": "code",
   "execution_count": 84,
   "id": "8e9689a1",
   "metadata": {},
   "outputs": [],
   "source": [
    "def get_airline_data(name):\n",
    "    \"\"\" data loader function to get data for a selected airline\n",
    "    \n",
    "    Parameters\n",
    "    ----------\n",
    "    name : string\n",
    "        Airline name\n",
    "\n",
    "    Returns\n",
    "    -------\n",
    "    airlineData : DataFrame\n",
    "            Pandas DataFrame that contains data of selected airline\n",
    "    \"\"\"\n",
    "    # use global data variable (if exists) to avoid repetitive loading of dataset\n",
    "    global data\n",
    "    \n",
    "    if data is None:\n",
    "        data = pd.read_csv('./data/airline.csv')\n",
    "    \n",
    "    airlineData = data[data[\"airline_name\"] == name]\n",
    "    airlineData = airlineData.reset_index(drop=True)\n",
    "    \n",
    "    print(f\"Für {name.upper()} sind {len(airlineData)} Datenpunkte vorhanden\")\n",
    "    \n",
    "    return airlineData"
   ]
  },
  {
   "cell_type": "code",
   "execution_count": 85,
   "id": "ea49bbd3",
   "metadata": {},
   "outputs": [],
   "source": [
    "def get_missing_data(data):\n",
    "    \"\"\" prints out all columns that have NaN values\n",
    "    \n",
    "    Parameters\n",
    "    ----------\n",
    "    data : DataFrame\n",
    "        Airline data\n",
    "    \"\"\"\n",
    "    \n",
    "    missingValues = False\n",
    "    \n",
    "    for col in data.columns:\n",
    "        numberMissing = data[col].isna().sum()\n",
    "        missPercentage = np.around(numberMissing/len(data)*100, decimals=1)\n",
    "        if numberMissing > 0 :\n",
    "            missingValues = True\n",
    "            print(f'{col.upper()} : ({numberMissing}/{len(data)}) missing values ({missPercentage}%) ')\n",
    "    \n",
    "    if not missingValues:\n",
    "        print(\"No NaN values left!\")"
   ]
  },
  {
   "cell_type": "code",
   "execution_count": 86,
   "id": "e1f90319",
   "metadata": {},
   "outputs": [],
   "source": [
    "def clean_metadata(data):\n",
    "    \"\"\" data loader function to get data for a selected airline\n",
    "    \n",
    "    Parameters\n",
    "    ----------\n",
    "    data : DataFrame\n",
    "        Airline data\n",
    "\n",
    "    Returns\n",
    "    -------\n",
    "    cleanedData : DataFrame\n",
    "        data without the columns that contain metadata\n",
    "    \"\"\"\n",
    "    \n",
    "    data.replace(to_replace={'cabin_flown' : 'Business Class'}, value='Business', inplace=True)\n",
    "    data.replace(to_replace={'cabin_flown' : 'First Class'}, value='First', inplace=True)\n",
    "    \n",
    "    data.rename(columns={'airline_name' : 'Airline'}, inplace=True)\n",
    "    #cleanedData = data.drop(columns={\"link\", \"author\", \"author_country\", \"airline_name\", \"title\", \n",
    "    #                         \"date\", \"aircraft\", \"route\", \"content\", \"type_traveller\"})\n",
    "    \n",
    "    cleanedData = data.drop(columns={\"link\", \"author\", \"author_country\", \"title\", \n",
    "                                     \"aircraft\", \"route\", \"content\", \"type_traveller\"})\n",
    "    return cleanedData"
   ]
  },
  {
   "cell_type": "code",
   "execution_count": 87,
   "id": "eb709c7b",
   "metadata": {},
   "outputs": [],
   "source": [
    "def remove_nan(data, threshold=0):\n",
    "    \"\"\" data loader function to get data for a selected airline\n",
    "    \n",
    "    Parameters\n",
    "    ----------\n",
    "    data : DataFrame\n",
    "        Airline data\n",
    "    \n",
    "    threshold : int\n",
    "        If the number of NaN values in a column is below this threshold, the respective rows are dropped\n",
    "        to remove the NaN values\n",
    "    \n",
    "    Returns\n",
    "    -------\n",
    "    cleanedData : DataFrame\n",
    "        data cleaned from NaN values \n",
    "    \"\"\"\n",
    "    \n",
    "    data = data.drop(columns={\"wifi_connectivity_rating\", \"ground_service_rating\"})\n",
    "   \n",
    "    # replace value for inflight entertainemnt with mean\n",
    "    data['inflight_entertainment_rating'].fillna(\n",
    "    value=np.around(data['inflight_entertainment_rating'].mean()), inplace=True)\n",
    "    \n",
    "    # replace value for missing overall rating by mean of all other ratings\n",
    "    ratingNaNIndex = data[data['overall_rating'].isna()==True].index\n",
    "      \n",
    "    for index in ratingNaNIndex:\n",
    "        replaceValue = data[['seat_comfort_rating','cabin_staff_rating','food_beverages_rating',\n",
    "                              'inflight_entertainment_rating','value_money_rating']].iloc[index].mean()\n",
    "        data.loc[index,'overall_rating'] = max(np.around(replaceValue),1)\n",
    "    \n",
    "    # drop NaN below \n",
    "    for col in data.columns:\n",
    "        numberMissing = data[col].isna().sum()\n",
    "        #print(f\"{col} : {numberMissing} values\")\n",
    "        \n",
    "        if numberMissing <= threshold:\n",
    "            data = data[data[col].notna()]\n",
    "            \n",
    "    return data\n",
    "    \n",
    "    "
   ]
  },
  {
   "cell_type": "markdown",
   "id": "79f23252",
   "metadata": {},
   "source": [
    "# Analysiere Kundenbewertungen der Swiss im Zeitraum von 2012 bis 2015"
   ]
  },
  {
   "cell_type": "markdown",
   "id": "478c0c0d",
   "metadata": {},
   "source": [
    "In den Jahren 2012 - 2015 betrug die jährliche Zahl der Fluggäste etwa  17 Mio. (Quelle: https://de.statista.com/statistik/daten/studie/291651/umfrage/fluggaeste-von-swiss/)"
   ]
  },
  {
   "cell_type": "code",
   "execution_count": 88,
   "id": "29ee44e2",
   "metadata": {},
   "outputs": [],
   "source": [
    "#data['airline_name'].unique()"
   ]
  },
  {
   "cell_type": "code",
   "execution_count": 89,
   "id": "ce75b429",
   "metadata": {},
   "outputs": [
    {
     "name": "stdout",
     "output_type": "stream",
     "text": [
      "Für SWISS-INTERNATIONAL-AIR-LINES sind 336 Datenpunkte vorhanden\n",
      "Für LUFTHANSA sind 600 Datenpunkte vorhanden\n",
      "Für AUSTRIAN-AIRLINES sind 281 Datenpunkte vorhanden\n",
      "Für SINGAPORE-AIRLINES sind 432 Datenpunkte vorhanden\n",
      "Für ANA-ALL-NIPPON-AIRWAYS sind 273 Datenpunkte vorhanden\n",
      "Für QATAR-AIRWAYS sind 492 Datenpunkte vorhanden\n",
      "Für CATHAY-PACIFIC-AIRWAYS sind 494 Datenpunkte vorhanden\n",
      "Für ASIANA-AIRLINES sind 303 Datenpunkte vorhanden\n",
      "Für EVA-AIR sind 302 Datenpunkte vorhanden\n",
      "Für GARUDA-INDONESIA sind 352 Datenpunkte vorhanden\n",
      "Für HAINAN-AIRLINES sind 88 Datenpunkte vorhanden\n",
      "Für JAPAN-AIRLINES sind 171 Datenpunkte vorhanden\n",
      "Für KOREAN-AIR sind 322 Datenpunkte vorhanden\n",
      "Für AMERICAN-AIRLINES sind 612 Datenpunkte vorhanden\n",
      "Für UNITED-AIRLINES sind 840 Datenpunkte vorhanden\n",
      "Für DELTA-AIR-LINES sind 466 Datenpunkte vorhanden\n"
     ]
    }
   ],
   "source": [
    "# Datensatz für SWISS Interantional Airlines herausfiltern und Länge ermitteln\n",
    "\n",
    "swiss = get_airline_data(\"swiss-international-air-lines\")\n",
    "lufthansa = get_airline_data(\"lufthansa\")\n",
    "austrian = get_airline_data(\"austrian-airlines\")\n",
    "# Datensatz für airlines, die im Jahre 2015 5 Sterne im Skytrax Rating hatten\n",
    "# Quelle: https://en.wikipedia.org/wiki/Skytrax#Airline_rankings\n",
    "    \n",
    "sia = get_airline_data(\"singapore-airlines\")\n",
    "ana = get_airline_data(\"ana-all-nippon-airways\")\n",
    "qatar = get_airline_data(\"qatar-airways\")\n",
    "cathay = get_airline_data(\"cathay-pacific-airways\")\n",
    "asiana = get_airline_data(\"asiana-airlines\")\n",
    "eva = get_airline_data(\"eva-air\")\n",
    "garuda = get_airline_data(\"garuda-indonesia\")\n",
    "hainan = get_airline_data(\"hainan-airlines\")\n",
    "jal = get_airline_data(\"japan-airlines\")\n",
    "korean = get_airline_data(\"korean-air\")\n",
    "\n",
    "american = get_airline_data(\"american-airlines\")\n",
    "united = get_airline_data(\"united-airlines\")\n",
    "delta = get_airline_data(\"delta-air-lines\")\n",
    "\n",
    "lhGroup = {'swiss' : swiss, 'lufthansa': lufthansa, 'austrian' : austrian}\n",
    "fiveStar = {'sia' : sia, 'ana' : ana, 'qatar' : qatar, 'cathay' : cathay, 'asiana' : asiana,\n",
    "            'eva' : eva, 'garuda' : garuda, 'hainan' : hainan, 'jal' : jal, 'korean' : korean}\n",
    "\n",
    "legacyCarrier = {'united' : united, 'delta' : delta, 'american' : american}"
   ]
  },
  {
   "cell_type": "code",
   "execution_count": 90,
   "id": "98ad50fc",
   "metadata": {
    "scrolled": true
   },
   "outputs": [],
   "source": [
    "# apply functions to remove metadata and NaN values to LH-Group airlines\n",
    "for key, value in lhGroup.items():\n",
    "    cleaned = clean_metadata(value)\n",
    "    lhGroup[key] = remove_nan(cleaned, 4)"
   ]
  },
  {
   "cell_type": "code",
   "execution_count": 91,
   "id": "4db74710",
   "metadata": {
    "scrolled": true
   },
   "outputs": [],
   "source": [
    "# apply functions to remove metadata and NaN values to 5-Star airlines\n",
    "for key, value in fiveStar.items():\n",
    "    cleaned = clean_metadata(value)\n",
    "    fiveStar[key] = remove_nan(cleaned, 1)"
   ]
  },
  {
   "cell_type": "code",
   "execution_count": 92,
   "id": "1e7155b7",
   "metadata": {},
   "outputs": [],
   "source": [
    "# apply functions to remove metadata and NaN values to legacy carriers\n",
    "for key, value in legacyCarrier.items():\n",
    "    cleaned = clean_metadata(value)\n",
    "    legacyCarrier[key] = remove_nan(cleaned, 19)"
   ]
  },
  {
   "cell_type": "code",
   "execution_count": 93,
   "id": "ff0d0773",
   "metadata": {},
   "outputs": [
    {
     "name": "stdout",
     "output_type": "stream",
     "text": [
      "SWISS - 336 reviews\n",
      "\n",
      "No NaN values left!\n",
      "\n",
      "\n",
      "LUFTHANSA - 600 reviews\n",
      "\n",
      "No NaN values left!\n",
      "\n",
      "\n",
      "AUSTRIAN - 277 reviews\n",
      "\n",
      "No NaN values left!\n",
      "\n",
      "\n"
     ]
    }
   ],
   "source": [
    "for key, value in lhGroup.items():\n",
    "    print(f'{key.upper()} - {len(value)} reviews\\n')\n",
    "    get_missing_data(value)\n",
    "    print(\"\\n\")"
   ]
  },
  {
   "cell_type": "code",
   "execution_count": 94,
   "id": "054dbc06",
   "metadata": {},
   "outputs": [
    {
     "name": "stdout",
     "output_type": "stream",
     "text": [
      "SIA - 432 reviews\n",
      "\n",
      "No NaN values left!\n",
      "\n",
      "\n",
      "ANA - 273 reviews\n",
      "\n",
      "SEAT_COMFORT_RATING : (99/273) missing values (36.3%) \n",
      "CABIN_STAFF_RATING : (99/273) missing values (36.3%) \n",
      "FOOD_BEVERAGES_RATING : (99/273) missing values (36.3%) \n",
      "\n",
      "\n",
      "QATAR - 492 reviews\n",
      "\n",
      "No NaN values left!\n",
      "\n",
      "\n",
      "CATHAY - 492 reviews\n",
      "\n",
      "No NaN values left!\n",
      "\n",
      "\n",
      "ASIANA - 303 reviews\n",
      "\n",
      "SEAT_COMFORT_RATING : (52/303) missing values (17.2%) \n",
      "CABIN_STAFF_RATING : (52/303) missing values (17.2%) \n",
      "FOOD_BEVERAGES_RATING : (52/303) missing values (17.2%) \n",
      "\n",
      "\n",
      "EVA - 302 reviews\n",
      "\n",
      "SEAT_COMFORT_RATING : (56/302) missing values (18.5%) \n",
      "CABIN_STAFF_RATING : (56/302) missing values (18.5%) \n",
      "FOOD_BEVERAGES_RATING : (56/302) missing values (18.5%) \n",
      "\n",
      "\n",
      "GARUDA - 352 reviews\n",
      "\n",
      "No NaN values left!\n",
      "\n",
      "\n",
      "HAINAN - 88 reviews\n",
      "\n",
      "SEAT_COMFORT_RATING : (39/88) missing values (44.3%) \n",
      "CABIN_STAFF_RATING : (39/88) missing values (44.3%) \n",
      "FOOD_BEVERAGES_RATING : (39/88) missing values (44.3%) \n",
      "\n",
      "\n",
      "JAL - 171 reviews\n",
      "\n",
      "SEAT_COMFORT_RATING : (55/171) missing values (32.2%) \n",
      "CABIN_STAFF_RATING : (55/171) missing values (32.2%) \n",
      "FOOD_BEVERAGES_RATING : (55/171) missing values (32.2%) \n",
      "\n",
      "\n",
      "KOREAN - 322 reviews\n",
      "\n",
      "SEAT_COMFORT_RATING : (35/322) missing values (10.9%) \n",
      "CABIN_STAFF_RATING : (35/322) missing values (10.9%) \n",
      "FOOD_BEVERAGES_RATING : (35/322) missing values (10.9%) \n",
      "VALUE_MONEY_RATING : (15/322) missing values (4.7%) \n",
      "\n",
      "\n"
     ]
    }
   ],
   "source": [
    "for key, value in fiveStar.items():\n",
    "    print(f'{key.upper()} - {len(value)} reviews\\n')\n",
    "    get_missing_data(value)\n",
    "    print(\"\\n\")"
   ]
  },
  {
   "cell_type": "code",
   "execution_count": 95,
   "id": "38d45fc5",
   "metadata": {},
   "outputs": [
    {
     "name": "stdout",
     "output_type": "stream",
     "text": [
      "UNITED - 820 reviews\n",
      "\n",
      "No NaN values left!\n",
      "\n",
      "\n",
      "DELTA - 458 reviews\n",
      "\n",
      "No NaN values left!\n",
      "\n",
      "\n",
      "AMERICAN - 598 reviews\n",
      "\n",
      "No NaN values left!\n",
      "\n",
      "\n"
     ]
    }
   ],
   "source": [
    "for key, value in legacyCarrier.items():\n",
    "    print(f'{key.upper()} - {len(value)} reviews\\n')\n",
    "    get_missing_data(value)\n",
    "    print(\"\\n\")"
   ]
  },
  {
   "cell_type": "markdown",
   "id": "35991342",
   "metadata": {},
   "source": [
    "## Preprocessing"
   ]
  },
  {
   "cell_type": "markdown",
   "id": "d51e471f",
   "metadata": {},
   "source": [
    "### Data Cleaning"
   ]
  },
  {
   "cell_type": "markdown",
   "id": "301a6090",
   "metadata": {},
   "source": [
    "Zuerst werden alle Spalten entfernt, die keinen (unmittelbaren) Einfluss auf die Bewertung des Fluggastes haben (Metadaten):\n",
    "* **link**: Link zur Datenquelle (irrelevant) -> **drop**\n",
    "* **author & author_country**: Name und Herkunft des Autors (irrelevant) -> **drop**\n",
    "* **airline_name**: Für alle Datenpunkte gleich, da nur Swiss betrachtet wird -> **drop**  **Überprüfen**\n",
    "* **title**: Auch für alle Datenpunkte gleich -> **drop** \n",
    "* **date**: Saisonale Effekte und zeitliche Veränderungen sollen vernachlässigt werden -> **drop** **Nicht unbedingt**\n",
    "\n",
    "Folgende Variablen können einen Einfluss auf die Zufriedenheit der Kunden haben \n",
    "* **aircraft**: Leider nur für 14 der 336 Datenpunkte erfasst, der Flugzeugtyp kann aber prinzipiell die Kundenzufriedenheit beeinflussen (Beispiel A380 wird von Fluggästen sehr positiv wahrgenommen) -> Flugzeugtyp könnte aber aus anderen Datenquellen ergänzt werden, wenn Flugnummer und/oder Flugsegmente bekannt sind (FlighRadar24, interne Datenbank) -> hier aber **drop**\n",
    "* **route**: Auch hier nur vereinzelt Daten vorhanden, viele Passagiere bewerten ihre gesamte Reise, die oft auch aus mehreren Flugsegmenten besteht. Route könnte bei Bedarf teilweise aus **content** abgeleitet werden. Für diesen vereinfachten Fall wird das gesamte Reiseerlebnis mit Swiss betrachtet, unabhängig von Route und möglichen Umstiegen -> **drop**\n",
    "* **content**: Geschriebene Bewertung der Nutzer und ist für alle Datenpunkte vorhanden. Enthält sehr viele Infos zu Route, Aircraft und allgemeinenen Zufriedenheit, die durch Natural Language Processing (NLP) extrahiert werden könnten. **Sehr wertvolle Daten, bei denen sich grundsätzlich eine weiterführende Analyse anbietet** -> werden in der Variable **writtenReview** abgespeichert \n",
    "* **type traveller**: Geschäftsreisende haben andere (oft höhere) Ansprüche an das Produkt, als Privatreisende. Allerdings sind auch hier nur unzureichende Daten vorhanden -> **drop**"
   ]
  },
  {
   "cell_type": "code",
   "execution_count": 96,
   "id": "270f35d7",
   "metadata": {},
   "outputs": [],
   "source": [
    "#writtenReview = swiss['content']\n",
    "#swiss = swiss.drop(columns={\"link\", \"author\", \"author_country\", \"airline_name\", \"title\", \n",
    "#                             \"date\", \"aircraft\", \"route\", \"content\", \"type_traveller\"})\n",
    "#swiss = clean_metadata(swiss)\n",
    "#swiss = airlines['swiss']"
   ]
  },
  {
   "cell_type": "markdown",
   "id": "3536300c",
   "metadata": {},
   "source": [
    "Somit bleiben folgende Variablen übrig, die einen direkten Einfluss auf die Kundenzufriedenheit haben:\n",
    "* **cabin_flown**\n",
    "* **overall_rating**\n",
    "* **seat_comfort_rating**\n",
    "* **cabin_staff_rating**\n",
    "* **food_beverages_rating**\n",
    "* **inflight_entertainment_rating**\n",
    "* **ground_service_rating**\n",
    "* **wifi_connectivity_rating**\n",
    "* **value_money_rating**\n",
    "* **recommended**"
   ]
  },
  {
   "cell_type": "markdown",
   "id": "6a8550b3",
   "metadata": {},
   "source": [
    "### Fehlende Werte\n",
    "Im nächsten Schritt wird ermittelt, wie viele fehlende Werte es pro Merkmal gibt und danach eine Strategie entwickelt diese zu ersetzen"
   ]
  },
  {
   "cell_type": "code",
   "execution_count": 97,
   "id": "51f953f6",
   "metadata": {},
   "outputs": [],
   "source": [
    "#get_missing_data(airlines['swiss'])"
   ]
  },
  {
   "cell_type": "markdown",
   "id": "c1c02889",
   "metadata": {},
   "source": [
    "Die Merkmale **ground_service_rating** und **wifi_connectivity_rating** fehlen bei fast allen Bewertungen. Nachfolgend wird angenommen, dass der Ground Service im Vergleich zu den direkt mit dem Flug verbundenen Kriterien wie Sitz, Flugpersonal, Essen- und Trinken, etc. eine untergeordnete Rolle spiel und vernachlässigt werden kann. Da Internet an Bord erst mit der 777-300ER im Jahr 2016 flächendeckend bei Swiss eingeführt wurde (Quelle: https://www.swiss.com/corporate/DE/medien/newsroom/medienmitteilungen/media-release-20160127), wird dieses Merkmal ebenfalls vernachlässigt  "
   ]
  },
  {
   "cell_type": "code",
   "execution_count": 98,
   "id": "931ffd12",
   "metadata": {},
   "outputs": [],
   "source": [
    "# drop columns for ground_service_rating and wifi_connectivity_rating\n",
    "#swiss = swiss.drop(columns={\"wifi_connectivity_rating\", \"ground_service_rating\"})"
   ]
  },
  {
   "cell_type": "code",
   "execution_count": 99,
   "id": "fcf95a66",
   "metadata": {},
   "outputs": [
    {
     "name": "stdout",
     "output_type": "stream",
     "text": [
      "Variable : aircraft : 322 missing values\n",
      "Variable : type_traveller : 318 missing values\n",
      "Variable : route : 318 missing values\n",
      "Variable : overall_rating : 18 missing values\n",
      "Variable : inflight_entertainment_rating : 3 missing values\n",
      "Variable : ground_service_rating : 321 missing values\n",
      "Variable : wifi_connectivity_rating : 333 missing values\n"
     ]
    }
   ],
   "source": [
    "# show remaining columns with missing values\n",
    "for col in swiss.columns:\n",
    "    numberMissing = swiss[col].isna().sum()\n",
    "    if numberMissing > 0 :\n",
    "        print(f'Variable : {col} : {numberMissing} missing values')"
   ]
  },
  {
   "cell_type": "code",
   "execution_count": 100,
   "id": "1c9687eb",
   "metadata": {},
   "outputs": [
    {
     "data": {
      "text/html": [
       "<div>\n",
       "<style scoped>\n",
       "    .dataframe tbody tr th:only-of-type {\n",
       "        vertical-align: middle;\n",
       "    }\n",
       "\n",
       "    .dataframe tbody tr th {\n",
       "        vertical-align: top;\n",
       "    }\n",
       "\n",
       "    .dataframe thead th {\n",
       "        text-align: right;\n",
       "    }\n",
       "</style>\n",
       "<table border=\"1\" class=\"dataframe\">\n",
       "  <thead>\n",
       "    <tr style=\"text-align: right;\">\n",
       "      <th></th>\n",
       "      <th>Airline</th>\n",
       "      <th>link</th>\n",
       "      <th>title</th>\n",
       "      <th>author</th>\n",
       "      <th>author_country</th>\n",
       "      <th>date</th>\n",
       "      <th>content</th>\n",
       "      <th>aircraft</th>\n",
       "      <th>type_traveller</th>\n",
       "      <th>cabin_flown</th>\n",
       "      <th>route</th>\n",
       "      <th>overall_rating</th>\n",
       "      <th>seat_comfort_rating</th>\n",
       "      <th>cabin_staff_rating</th>\n",
       "      <th>food_beverages_rating</th>\n",
       "      <th>inflight_entertainment_rating</th>\n",
       "      <th>ground_service_rating</th>\n",
       "      <th>wifi_connectivity_rating</th>\n",
       "      <th>value_money_rating</th>\n",
       "      <th>recommended</th>\n",
       "    </tr>\n",
       "  </thead>\n",
       "  <tbody>\n",
       "    <tr>\n",
       "      <th>1</th>\n",
       "      <td>swiss-international-air-lines</td>\n",
       "      <td>/airline-reviews/swiss-international-air-lines</td>\n",
       "      <td>Swiss Intl Air Lines customer review</td>\n",
       "      <td>Marc Vermeire</td>\n",
       "      <td>Belgium</td>\n",
       "      <td>2015-07-27</td>\n",
       "      <td>Brussels to Barcelona via Zurich. Brussels - Z...</td>\n",
       "      <td>NaN</td>\n",
       "      <td>Solo Leisure</td>\n",
       "      <td>Business</td>\n",
       "      <td>Brussels to Barcelona via Zurich</td>\n",
       "      <td>9.0</td>\n",
       "      <td>4.0</td>\n",
       "      <td>5.0</td>\n",
       "      <td>5.0</td>\n",
       "      <td>NaN</td>\n",
       "      <td>5.0</td>\n",
       "      <td>NaN</td>\n",
       "      <td>5.0</td>\n",
       "      <td>1</td>\n",
       "    </tr>\n",
       "    <tr>\n",
       "      <th>3</th>\n",
       "      <td>swiss-international-air-lines</td>\n",
       "      <td>/airline-reviews/swiss-international-air-lines</td>\n",
       "      <td>Swiss Intl Air Lines customer review</td>\n",
       "      <td>J Tung</td>\n",
       "      <td>United Kingdom</td>\n",
       "      <td>2015-07-23</td>\n",
       "      <td>Malta to London City via Zurich. The first lag...</td>\n",
       "      <td>A320/E190</td>\n",
       "      <td>Couple Leisure</td>\n",
       "      <td>Economy</td>\n",
       "      <td>Malta to LCY via Zurich</td>\n",
       "      <td>7.0</td>\n",
       "      <td>4.0</td>\n",
       "      <td>4.0</td>\n",
       "      <td>4.0</td>\n",
       "      <td>NaN</td>\n",
       "      <td>3.0</td>\n",
       "      <td>NaN</td>\n",
       "      <td>4.0</td>\n",
       "      <td>1</td>\n",
       "    </tr>\n",
       "    <tr>\n",
       "      <th>15</th>\n",
       "      <td>swiss-international-air-lines</td>\n",
       "      <td>/airline-reviews/swiss-international-air-lines</td>\n",
       "      <td>Swiss Intl Air Lines customer review</td>\n",
       "      <td>Farine Ludovic</td>\n",
       "      <td>Switzerland</td>\n",
       "      <td>2015-06-13</td>\n",
       "      <td>GVA-LHR-GVA with family. Both flights were the...</td>\n",
       "      <td>NaN</td>\n",
       "      <td>Solo Leisure</td>\n",
       "      <td>Economy</td>\n",
       "      <td>GVA-LHR-GVA</td>\n",
       "      <td>10.0</td>\n",
       "      <td>5.0</td>\n",
       "      <td>5.0</td>\n",
       "      <td>4.0</td>\n",
       "      <td>NaN</td>\n",
       "      <td>NaN</td>\n",
       "      <td>NaN</td>\n",
       "      <td>5.0</td>\n",
       "      <td>1</td>\n",
       "    </tr>\n",
       "  </tbody>\n",
       "</table>\n",
       "</div>"
      ],
      "text/plain": [
       "                          Airline  \\\n",
       "1   swiss-international-air-lines   \n",
       "3   swiss-international-air-lines   \n",
       "15  swiss-international-air-lines   \n",
       "\n",
       "                                              link  \\\n",
       "1   /airline-reviews/swiss-international-air-lines   \n",
       "3   /airline-reviews/swiss-international-air-lines   \n",
       "15  /airline-reviews/swiss-international-air-lines   \n",
       "\n",
       "                                   title          author  author_country  \\\n",
       "1   Swiss Intl Air Lines customer review   Marc Vermeire         Belgium   \n",
       "3   Swiss Intl Air Lines customer review          J Tung  United Kingdom   \n",
       "15  Swiss Intl Air Lines customer review  Farine Ludovic     Switzerland   \n",
       "\n",
       "          date                                            content   aircraft  \\\n",
       "1   2015-07-27  Brussels to Barcelona via Zurich. Brussels - Z...        NaN   \n",
       "3   2015-07-23  Malta to London City via Zurich. The first lag...  A320/E190   \n",
       "15  2015-06-13  GVA-LHR-GVA with family. Both flights were the...        NaN   \n",
       "\n",
       "    type_traveller cabin_flown                             route  \\\n",
       "1     Solo Leisure    Business  Brussels to Barcelona via Zurich   \n",
       "3   Couple Leisure     Economy           Malta to LCY via Zurich   \n",
       "15    Solo Leisure     Economy                       GVA-LHR-GVA   \n",
       "\n",
       "    overall_rating  seat_comfort_rating  cabin_staff_rating  \\\n",
       "1              9.0                  4.0                 5.0   \n",
       "3              7.0                  4.0                 4.0   \n",
       "15            10.0                  5.0                 5.0   \n",
       "\n",
       "    food_beverages_rating  inflight_entertainment_rating  \\\n",
       "1                     5.0                            NaN   \n",
       "3                     4.0                            NaN   \n",
       "15                    4.0                            NaN   \n",
       "\n",
       "    ground_service_rating  wifi_connectivity_rating  value_money_rating  \\\n",
       "1                     5.0                       NaN                 5.0   \n",
       "3                     3.0                       NaN                 4.0   \n",
       "15                    NaN                       NaN                 5.0   \n",
       "\n",
       "    recommended  \n",
       "1             1  \n",
       "3             1  \n",
       "15            1  "
      ]
     },
     "execution_count": 100,
     "metadata": {},
     "output_type": "execute_result"
    }
   ],
   "source": [
    "# get indices for rows with missing overall rating\n",
    "ifeNaNIndex = swiss[swiss['inflight_entertainment_rating'].isna()==True].index\n",
    "\n",
    "# show rows with NaN for inflight entertainment before replacement\n",
    "swiss.loc[ifeNaNIndex]"
   ]
  },
  {
   "cell_type": "code",
   "execution_count": 101,
   "id": "90fb217a",
   "metadata": {},
   "outputs": [
    {
     "data": {
      "text/html": [
       "<div>\n",
       "<style scoped>\n",
       "    .dataframe tbody tr th:only-of-type {\n",
       "        vertical-align: middle;\n",
       "    }\n",
       "\n",
       "    .dataframe tbody tr th {\n",
       "        vertical-align: top;\n",
       "    }\n",
       "\n",
       "    .dataframe thead th {\n",
       "        text-align: right;\n",
       "    }\n",
       "</style>\n",
       "<table border=\"1\" class=\"dataframe\">\n",
       "  <thead>\n",
       "    <tr style=\"text-align: right;\">\n",
       "      <th></th>\n",
       "      <th>Airline</th>\n",
       "      <th>link</th>\n",
       "      <th>title</th>\n",
       "      <th>author</th>\n",
       "      <th>author_country</th>\n",
       "      <th>date</th>\n",
       "      <th>content</th>\n",
       "      <th>aircraft</th>\n",
       "      <th>type_traveller</th>\n",
       "      <th>cabin_flown</th>\n",
       "      <th>route</th>\n",
       "      <th>overall_rating</th>\n",
       "      <th>seat_comfort_rating</th>\n",
       "      <th>cabin_staff_rating</th>\n",
       "      <th>food_beverages_rating</th>\n",
       "      <th>inflight_entertainment_rating</th>\n",
       "      <th>ground_service_rating</th>\n",
       "      <th>wifi_connectivity_rating</th>\n",
       "      <th>value_money_rating</th>\n",
       "      <th>recommended</th>\n",
       "    </tr>\n",
       "  </thead>\n",
       "  <tbody>\n",
       "    <tr>\n",
       "      <th>1</th>\n",
       "      <td>swiss-international-air-lines</td>\n",
       "      <td>/airline-reviews/swiss-international-air-lines</td>\n",
       "      <td>Swiss Intl Air Lines customer review</td>\n",
       "      <td>Marc Vermeire</td>\n",
       "      <td>Belgium</td>\n",
       "      <td>2015-07-27</td>\n",
       "      <td>Brussels to Barcelona via Zurich. Brussels - Z...</td>\n",
       "      <td>NaN</td>\n",
       "      <td>Solo Leisure</td>\n",
       "      <td>Business</td>\n",
       "      <td>Brussels to Barcelona via Zurich</td>\n",
       "      <td>9.0</td>\n",
       "      <td>4.0</td>\n",
       "      <td>5.0</td>\n",
       "      <td>5.0</td>\n",
       "      <td>3.0</td>\n",
       "      <td>5.0</td>\n",
       "      <td>NaN</td>\n",
       "      <td>5.0</td>\n",
       "      <td>1</td>\n",
       "    </tr>\n",
       "    <tr>\n",
       "      <th>3</th>\n",
       "      <td>swiss-international-air-lines</td>\n",
       "      <td>/airline-reviews/swiss-international-air-lines</td>\n",
       "      <td>Swiss Intl Air Lines customer review</td>\n",
       "      <td>J Tung</td>\n",
       "      <td>United Kingdom</td>\n",
       "      <td>2015-07-23</td>\n",
       "      <td>Malta to London City via Zurich. The first lag...</td>\n",
       "      <td>A320/E190</td>\n",
       "      <td>Couple Leisure</td>\n",
       "      <td>Economy</td>\n",
       "      <td>Malta to LCY via Zurich</td>\n",
       "      <td>7.0</td>\n",
       "      <td>4.0</td>\n",
       "      <td>4.0</td>\n",
       "      <td>4.0</td>\n",
       "      <td>3.0</td>\n",
       "      <td>3.0</td>\n",
       "      <td>NaN</td>\n",
       "      <td>4.0</td>\n",
       "      <td>1</td>\n",
       "    </tr>\n",
       "    <tr>\n",
       "      <th>15</th>\n",
       "      <td>swiss-international-air-lines</td>\n",
       "      <td>/airline-reviews/swiss-international-air-lines</td>\n",
       "      <td>Swiss Intl Air Lines customer review</td>\n",
       "      <td>Farine Ludovic</td>\n",
       "      <td>Switzerland</td>\n",
       "      <td>2015-06-13</td>\n",
       "      <td>GVA-LHR-GVA with family. Both flights were the...</td>\n",
       "      <td>NaN</td>\n",
       "      <td>Solo Leisure</td>\n",
       "      <td>Economy</td>\n",
       "      <td>GVA-LHR-GVA</td>\n",
       "      <td>10.0</td>\n",
       "      <td>5.0</td>\n",
       "      <td>5.0</td>\n",
       "      <td>4.0</td>\n",
       "      <td>3.0</td>\n",
       "      <td>NaN</td>\n",
       "      <td>NaN</td>\n",
       "      <td>5.0</td>\n",
       "      <td>1</td>\n",
       "    </tr>\n",
       "  </tbody>\n",
       "</table>\n",
       "</div>"
      ],
      "text/plain": [
       "                          Airline  \\\n",
       "1   swiss-international-air-lines   \n",
       "3   swiss-international-air-lines   \n",
       "15  swiss-international-air-lines   \n",
       "\n",
       "                                              link  \\\n",
       "1   /airline-reviews/swiss-international-air-lines   \n",
       "3   /airline-reviews/swiss-international-air-lines   \n",
       "15  /airline-reviews/swiss-international-air-lines   \n",
       "\n",
       "                                   title          author  author_country  \\\n",
       "1   Swiss Intl Air Lines customer review   Marc Vermeire         Belgium   \n",
       "3   Swiss Intl Air Lines customer review          J Tung  United Kingdom   \n",
       "15  Swiss Intl Air Lines customer review  Farine Ludovic     Switzerland   \n",
       "\n",
       "          date                                            content   aircraft  \\\n",
       "1   2015-07-27  Brussels to Barcelona via Zurich. Brussels - Z...        NaN   \n",
       "3   2015-07-23  Malta to London City via Zurich. The first lag...  A320/E190   \n",
       "15  2015-06-13  GVA-LHR-GVA with family. Both flights were the...        NaN   \n",
       "\n",
       "    type_traveller cabin_flown                             route  \\\n",
       "1     Solo Leisure    Business  Brussels to Barcelona via Zurich   \n",
       "3   Couple Leisure     Economy           Malta to LCY via Zurich   \n",
       "15    Solo Leisure     Economy                       GVA-LHR-GVA   \n",
       "\n",
       "    overall_rating  seat_comfort_rating  cabin_staff_rating  \\\n",
       "1              9.0                  4.0                 5.0   \n",
       "3              7.0                  4.0                 4.0   \n",
       "15            10.0                  5.0                 5.0   \n",
       "\n",
       "    food_beverages_rating  inflight_entertainment_rating  \\\n",
       "1                     5.0                            3.0   \n",
       "3                     4.0                            3.0   \n",
       "15                    4.0                            3.0   \n",
       "\n",
       "    ground_service_rating  wifi_connectivity_rating  value_money_rating  \\\n",
       "1                     5.0                       NaN                 5.0   \n",
       "3                     3.0                       NaN                 4.0   \n",
       "15                    NaN                       NaN                 5.0   \n",
       "\n",
       "    recommended  \n",
       "1             1  \n",
       "3             1  \n",
       "15            1  "
      ]
     },
     "execution_count": 101,
     "metadata": {},
     "output_type": "execute_result"
    }
   ],
   "source": [
    "# Replace missing values for inflight entertainment with mean\n",
    "swiss['inflight_entertainment_rating'].fillna(\n",
    "    value=np.around(swiss['inflight_entertainment_rating'].mean()), inplace=True)\n",
    "\n",
    "# show rows with replaced values\n",
    "swiss.loc[ifeNaNIndex]"
   ]
  },
  {
   "cell_type": "code",
   "execution_count": 102,
   "id": "33f0411e",
   "metadata": {},
   "outputs": [
    {
     "data": {
      "text/html": [
       "<div>\n",
       "<style scoped>\n",
       "    .dataframe tbody tr th:only-of-type {\n",
       "        vertical-align: middle;\n",
       "    }\n",
       "\n",
       "    .dataframe tbody tr th {\n",
       "        vertical-align: top;\n",
       "    }\n",
       "\n",
       "    .dataframe thead th {\n",
       "        text-align: right;\n",
       "    }\n",
       "</style>\n",
       "<table border=\"1\" class=\"dataframe\">\n",
       "  <thead>\n",
       "    <tr style=\"text-align: right;\">\n",
       "      <th></th>\n",
       "      <th>Airline</th>\n",
       "      <th>link</th>\n",
       "      <th>title</th>\n",
       "      <th>author</th>\n",
       "      <th>author_country</th>\n",
       "      <th>date</th>\n",
       "      <th>content</th>\n",
       "      <th>aircraft</th>\n",
       "      <th>type_traveller</th>\n",
       "      <th>cabin_flown</th>\n",
       "      <th>route</th>\n",
       "      <th>overall_rating</th>\n",
       "      <th>seat_comfort_rating</th>\n",
       "      <th>cabin_staff_rating</th>\n",
       "      <th>food_beverages_rating</th>\n",
       "      <th>inflight_entertainment_rating</th>\n",
       "      <th>ground_service_rating</th>\n",
       "      <th>wifi_connectivity_rating</th>\n",
       "      <th>value_money_rating</th>\n",
       "      <th>recommended</th>\n",
       "    </tr>\n",
       "  </thead>\n",
       "  <tbody>\n",
       "    <tr>\n",
       "      <th>66</th>\n",
       "      <td>swiss-international-air-lines</td>\n",
       "      <td>/airline-reviews/swiss-international-air-lines</td>\n",
       "      <td>Swiss Intl Air Lines customer review</td>\n",
       "      <td>M Lingg</td>\n",
       "      <td>Liechtenstein</td>\n",
       "      <td>2014-10-28</td>\n",
       "      <td>I've booked a J class ticket with LX from ZRH-...</td>\n",
       "      <td>NaN</td>\n",
       "      <td>NaN</td>\n",
       "      <td>Business</td>\n",
       "      <td>NaN</td>\n",
       "      <td>NaN</td>\n",
       "      <td>0.0</td>\n",
       "      <td>1.0</td>\n",
       "      <td>0.0</td>\n",
       "      <td>0.0</td>\n",
       "      <td>NaN</td>\n",
       "      <td>NaN</td>\n",
       "      <td>1.0</td>\n",
       "      <td>0</td>\n",
       "    </tr>\n",
       "    <tr>\n",
       "      <th>89</th>\n",
       "      <td>swiss-international-air-lines</td>\n",
       "      <td>/airline-reviews/swiss-international-air-lines</td>\n",
       "      <td>Swiss Intl Air Lines customer review</td>\n",
       "      <td>R Robinson</td>\n",
       "      <td>United Kingdom</td>\n",
       "      <td>2014-08-20</td>\n",
       "      <td>We paid for 3 seats in Business Class and I ca...</td>\n",
       "      <td>NaN</td>\n",
       "      <td>NaN</td>\n",
       "      <td>Business</td>\n",
       "      <td>NaN</td>\n",
       "      <td>NaN</td>\n",
       "      <td>2.0</td>\n",
       "      <td>1.0</td>\n",
       "      <td>3.0</td>\n",
       "      <td>2.0</td>\n",
       "      <td>NaN</td>\n",
       "      <td>NaN</td>\n",
       "      <td>1.0</td>\n",
       "      <td>0</td>\n",
       "    </tr>\n",
       "    <tr>\n",
       "      <th>92</th>\n",
       "      <td>swiss-international-air-lines</td>\n",
       "      <td>/airline-reviews/swiss-international-air-lines</td>\n",
       "      <td>Swiss Intl Air Lines customer review</td>\n",
       "      <td>Edmond Mitraj</td>\n",
       "      <td>United Arab Emirates</td>\n",
       "      <td>2014-08-03</td>\n",
       "      <td>26th June my colleague and I were flying from ...</td>\n",
       "      <td>NaN</td>\n",
       "      <td>NaN</td>\n",
       "      <td>Economy</td>\n",
       "      <td>NaN</td>\n",
       "      <td>NaN</td>\n",
       "      <td>1.0</td>\n",
       "      <td>1.0</td>\n",
       "      <td>0.0</td>\n",
       "      <td>0.0</td>\n",
       "      <td>NaN</td>\n",
       "      <td>NaN</td>\n",
       "      <td>1.0</td>\n",
       "      <td>0</td>\n",
       "    </tr>\n",
       "    <tr>\n",
       "      <th>95</th>\n",
       "      <td>swiss-international-air-lines</td>\n",
       "      <td>/airline-reviews/swiss-international-air-lines</td>\n",
       "      <td>Swiss Intl Air Lines customer review</td>\n",
       "      <td>Y Wata</td>\n",
       "      <td>Japan</td>\n",
       "      <td>2014-07-29</td>\n",
       "      <td>July 24 Geneva-London (City). Breaking system ...</td>\n",
       "      <td>NaN</td>\n",
       "      <td>NaN</td>\n",
       "      <td>Economy</td>\n",
       "      <td>NaN</td>\n",
       "      <td>NaN</td>\n",
       "      <td>3.0</td>\n",
       "      <td>2.0</td>\n",
       "      <td>2.0</td>\n",
       "      <td>1.0</td>\n",
       "      <td>NaN</td>\n",
       "      <td>NaN</td>\n",
       "      <td>1.0</td>\n",
       "      <td>0</td>\n",
       "    </tr>\n",
       "    <tr>\n",
       "      <th>101</th>\n",
       "      <td>swiss-international-air-lines</td>\n",
       "      <td>/airline-reviews/swiss-international-air-lines</td>\n",
       "      <td>Swiss Intl Air Lines customer review</td>\n",
       "      <td>D Wayne</td>\n",
       "      <td>United States</td>\n",
       "      <td>2014-07-17</td>\n",
       "      <td>ZRH-NCE 08.55am departure 28 June 2014. Select...</td>\n",
       "      <td>NaN</td>\n",
       "      <td>NaN</td>\n",
       "      <td>Economy</td>\n",
       "      <td>NaN</td>\n",
       "      <td>NaN</td>\n",
       "      <td>2.0</td>\n",
       "      <td>1.0</td>\n",
       "      <td>1.0</td>\n",
       "      <td>1.0</td>\n",
       "      <td>NaN</td>\n",
       "      <td>NaN</td>\n",
       "      <td>1.0</td>\n",
       "      <td>0</td>\n",
       "    </tr>\n",
       "    <tr>\n",
       "      <th>104</th>\n",
       "      <td>swiss-international-air-lines</td>\n",
       "      <td>/airline-reviews/swiss-international-air-lines</td>\n",
       "      <td>Swiss Intl Air Lines customer review</td>\n",
       "      <td>Benjamin Jilek</td>\n",
       "      <td>United States</td>\n",
       "      <td>2014-07-08</td>\n",
       "      <td>My wife and I booked a flight on the Edelweiss...</td>\n",
       "      <td>NaN</td>\n",
       "      <td>NaN</td>\n",
       "      <td>Economy</td>\n",
       "      <td>NaN</td>\n",
       "      <td>NaN</td>\n",
       "      <td>2.0</td>\n",
       "      <td>1.0</td>\n",
       "      <td>1.0</td>\n",
       "      <td>4.0</td>\n",
       "      <td>NaN</td>\n",
       "      <td>NaN</td>\n",
       "      <td>2.0</td>\n",
       "      <td>0</td>\n",
       "    </tr>\n",
       "    <tr>\n",
       "      <th>141</th>\n",
       "      <td>swiss-international-air-lines</td>\n",
       "      <td>/airline-reviews/swiss-international-air-lines</td>\n",
       "      <td>Swiss Intl Air Lines customer review</td>\n",
       "      <td>T Nielsen</td>\n",
       "      <td>Switzerland</td>\n",
       "      <td>2014-02-07</td>\n",
       "      <td>Copenhagen to Hong Kong via Zurich. Flight out...</td>\n",
       "      <td>NaN</td>\n",
       "      <td>NaN</td>\n",
       "      <td>Economy</td>\n",
       "      <td>NaN</td>\n",
       "      <td>NaN</td>\n",
       "      <td>3.0</td>\n",
       "      <td>1.0</td>\n",
       "      <td>3.0</td>\n",
       "      <td>3.0</td>\n",
       "      <td>NaN</td>\n",
       "      <td>NaN</td>\n",
       "      <td>2.0</td>\n",
       "      <td>0</td>\n",
       "    </tr>\n",
       "    <tr>\n",
       "      <th>166</th>\n",
       "      <td>swiss-international-air-lines</td>\n",
       "      <td>/airline-reviews/swiss-international-air-lines</td>\n",
       "      <td>Swiss Intl Air Lines customer review</td>\n",
       "      <td>Craig Cunningham</td>\n",
       "      <td>United Kingdom</td>\n",
       "      <td>2013-12-13</td>\n",
       "      <td>Flew from London City to Sao Paulo via Zurich ...</td>\n",
       "      <td>NaN</td>\n",
       "      <td>NaN</td>\n",
       "      <td>Business</td>\n",
       "      <td>NaN</td>\n",
       "      <td>NaN</td>\n",
       "      <td>3.0</td>\n",
       "      <td>1.0</td>\n",
       "      <td>1.0</td>\n",
       "      <td>1.0</td>\n",
       "      <td>NaN</td>\n",
       "      <td>NaN</td>\n",
       "      <td>1.0</td>\n",
       "      <td>0</td>\n",
       "    </tr>\n",
       "    <tr>\n",
       "      <th>167</th>\n",
       "      <td>swiss-international-air-lines</td>\n",
       "      <td>/airline-reviews/swiss-international-air-lines</td>\n",
       "      <td>Swiss Intl Air Lines customer review</td>\n",
       "      <td>C Röthlisberger</td>\n",
       "      <td>Switzerland</td>\n",
       "      <td>2013-12-12</td>\n",
       "      <td>SIN-ZRH with my husband and two small children...</td>\n",
       "      <td>NaN</td>\n",
       "      <td>NaN</td>\n",
       "      <td>Economy</td>\n",
       "      <td>NaN</td>\n",
       "      <td>NaN</td>\n",
       "      <td>3.0</td>\n",
       "      <td>1.0</td>\n",
       "      <td>1.0</td>\n",
       "      <td>2.0</td>\n",
       "      <td>NaN</td>\n",
       "      <td>NaN</td>\n",
       "      <td>3.0</td>\n",
       "      <td>0</td>\n",
       "    </tr>\n",
       "    <tr>\n",
       "      <th>172</th>\n",
       "      <td>swiss-international-air-lines</td>\n",
       "      <td>/airline-reviews/swiss-international-air-lines</td>\n",
       "      <td>Swiss Intl Air Lines customer review</td>\n",
       "      <td>Michele Borgarelli</td>\n",
       "      <td>United States</td>\n",
       "      <td>2013-11-22</td>\n",
       "      <td>I travel about 100000 miles per year. This was...</td>\n",
       "      <td>NaN</td>\n",
       "      <td>NaN</td>\n",
       "      <td>Economy</td>\n",
       "      <td>NaN</td>\n",
       "      <td>NaN</td>\n",
       "      <td>4.0</td>\n",
       "      <td>1.0</td>\n",
       "      <td>4.0</td>\n",
       "      <td>0.0</td>\n",
       "      <td>NaN</td>\n",
       "      <td>NaN</td>\n",
       "      <td>1.0</td>\n",
       "      <td>0</td>\n",
       "    </tr>\n",
       "    <tr>\n",
       "      <th>202</th>\n",
       "      <td>swiss-international-air-lines</td>\n",
       "      <td>/airline-reviews/swiss-international-air-lines</td>\n",
       "      <td>Swiss Intl Air Lines customer review</td>\n",
       "      <td>Kotenev Vlad</td>\n",
       "      <td>United States</td>\n",
       "      <td>2013-08-14</td>\n",
       "      <td>Barcelona to Zurich on August 9 2013. Check in...</td>\n",
       "      <td>NaN</td>\n",
       "      <td>NaN</td>\n",
       "      <td>Economy</td>\n",
       "      <td>NaN</td>\n",
       "      <td>NaN</td>\n",
       "      <td>2.0</td>\n",
       "      <td>2.0</td>\n",
       "      <td>1.0</td>\n",
       "      <td>1.0</td>\n",
       "      <td>NaN</td>\n",
       "      <td>NaN</td>\n",
       "      <td>1.0</td>\n",
       "      <td>0</td>\n",
       "    </tr>\n",
       "    <tr>\n",
       "      <th>205</th>\n",
       "      <td>swiss-international-air-lines</td>\n",
       "      <td>/airline-reviews/swiss-international-air-lines</td>\n",
       "      <td>Swiss Intl Air Lines customer review</td>\n",
       "      <td>G White</td>\n",
       "      <td>Switzerland</td>\n",
       "      <td>2013-08-06</td>\n",
       "      <td>In the last year I have travelled SWISS about ...</td>\n",
       "      <td>NaN</td>\n",
       "      <td>NaN</td>\n",
       "      <td>Economy</td>\n",
       "      <td>NaN</td>\n",
       "      <td>NaN</td>\n",
       "      <td>3.0</td>\n",
       "      <td>3.0</td>\n",
       "      <td>2.0</td>\n",
       "      <td>3.0</td>\n",
       "      <td>NaN</td>\n",
       "      <td>NaN</td>\n",
       "      <td>1.0</td>\n",
       "      <td>0</td>\n",
       "    </tr>\n",
       "    <tr>\n",
       "      <th>210</th>\n",
       "      <td>swiss-international-air-lines</td>\n",
       "      <td>/airline-reviews/swiss-international-air-lines</td>\n",
       "      <td>Swiss Intl Air Lines customer review</td>\n",
       "      <td>A Bogojevic</td>\n",
       "      <td>Australia</td>\n",
       "      <td>2013-07-21</td>\n",
       "      <td>Zurich-Singapore. A long 14 hour flight so dur...</td>\n",
       "      <td>NaN</td>\n",
       "      <td>NaN</td>\n",
       "      <td>Economy</td>\n",
       "      <td>NaN</td>\n",
       "      <td>NaN</td>\n",
       "      <td>1.0</td>\n",
       "      <td>2.0</td>\n",
       "      <td>3.0</td>\n",
       "      <td>1.0</td>\n",
       "      <td>NaN</td>\n",
       "      <td>NaN</td>\n",
       "      <td>1.0</td>\n",
       "      <td>0</td>\n",
       "    </tr>\n",
       "    <tr>\n",
       "      <th>211</th>\n",
       "      <td>swiss-international-air-lines</td>\n",
       "      <td>/airline-reviews/swiss-international-air-lines</td>\n",
       "      <td>Swiss Intl Air Lines customer review</td>\n",
       "      <td>Claire-Lise Jaquier</td>\n",
       "      <td>Switzerland</td>\n",
       "      <td>2013-07-18</td>\n",
       "      <td>Problems can happen it is just the way they ar...</td>\n",
       "      <td>NaN</td>\n",
       "      <td>NaN</td>\n",
       "      <td>Economy</td>\n",
       "      <td>NaN</td>\n",
       "      <td>NaN</td>\n",
       "      <td>0.0</td>\n",
       "      <td>3.0</td>\n",
       "      <td>0.0</td>\n",
       "      <td>0.0</td>\n",
       "      <td>NaN</td>\n",
       "      <td>NaN</td>\n",
       "      <td>2.0</td>\n",
       "      <td>0</td>\n",
       "    </tr>\n",
       "    <tr>\n",
       "      <th>221</th>\n",
       "      <td>swiss-international-air-lines</td>\n",
       "      <td>/airline-reviews/swiss-international-air-lines</td>\n",
       "      <td>Swiss Intl Air Lines customer review</td>\n",
       "      <td>Ajizu Shiei</td>\n",
       "      <td>Singapore</td>\n",
       "      <td>2013-06-26</td>\n",
       "      <td>Singapore to Zurich. The overall service was p...</td>\n",
       "      <td>NaN</td>\n",
       "      <td>NaN</td>\n",
       "      <td>Economy</td>\n",
       "      <td>NaN</td>\n",
       "      <td>NaN</td>\n",
       "      <td>2.0</td>\n",
       "      <td>1.0</td>\n",
       "      <td>3.0</td>\n",
       "      <td>3.0</td>\n",
       "      <td>NaN</td>\n",
       "      <td>NaN</td>\n",
       "      <td>1.0</td>\n",
       "      <td>0</td>\n",
       "    </tr>\n",
       "    <tr>\n",
       "      <th>228</th>\n",
       "      <td>swiss-international-air-lines</td>\n",
       "      <td>/airline-reviews/swiss-international-air-lines</td>\n",
       "      <td>Swiss Intl Air Lines customer review</td>\n",
       "      <td>A Aweidah</td>\n",
       "      <td>Palestinian Territories</td>\n",
       "      <td>2013-06-11</td>\n",
       "      <td>TLV-ZRH-MAD and back flights between TLV-ZRH o...</td>\n",
       "      <td>NaN</td>\n",
       "      <td>NaN</td>\n",
       "      <td>Economy</td>\n",
       "      <td>NaN</td>\n",
       "      <td>NaN</td>\n",
       "      <td>1.0</td>\n",
       "      <td>1.0</td>\n",
       "      <td>1.0</td>\n",
       "      <td>1.0</td>\n",
       "      <td>NaN</td>\n",
       "      <td>NaN</td>\n",
       "      <td>2.0</td>\n",
       "      <td>0</td>\n",
       "    </tr>\n",
       "    <tr>\n",
       "      <th>281</th>\n",
       "      <td>swiss-international-air-lines</td>\n",
       "      <td>/airline-reviews/swiss-international-air-lines</td>\n",
       "      <td>Swiss Intl Air Lines customer review</td>\n",
       "      <td>N Surtees</td>\n",
       "      <td>Australia</td>\n",
       "      <td>2013-01-28</td>\n",
       "      <td>Zurich to London. Very disappointed with Swiss...</td>\n",
       "      <td>NaN</td>\n",
       "      <td>NaN</td>\n",
       "      <td>Economy</td>\n",
       "      <td>NaN</td>\n",
       "      <td>NaN</td>\n",
       "      <td>1.0</td>\n",
       "      <td>1.0</td>\n",
       "      <td>4.0</td>\n",
       "      <td>3.0</td>\n",
       "      <td>NaN</td>\n",
       "      <td>NaN</td>\n",
       "      <td>0.0</td>\n",
       "      <td>0</td>\n",
       "    </tr>\n",
       "    <tr>\n",
       "      <th>284</th>\n",
       "      <td>swiss-international-air-lines</td>\n",
       "      <td>/airline-reviews/swiss-international-air-lines</td>\n",
       "      <td>Swiss Intl Air Lines customer review</td>\n",
       "      <td>A Vanbergen</td>\n",
       "      <td>Netherlands</td>\n",
       "      <td>2013-01-15</td>\n",
       "      <td>Flew Zurich to Brussels and back in Economy - ...</td>\n",
       "      <td>NaN</td>\n",
       "      <td>NaN</td>\n",
       "      <td>Economy</td>\n",
       "      <td>NaN</td>\n",
       "      <td>NaN</td>\n",
       "      <td>2.0</td>\n",
       "      <td>2.0</td>\n",
       "      <td>2.0</td>\n",
       "      <td>0.0</td>\n",
       "      <td>NaN</td>\n",
       "      <td>NaN</td>\n",
       "      <td>1.0</td>\n",
       "      <td>0</td>\n",
       "    </tr>\n",
       "  </tbody>\n",
       "</table>\n",
       "</div>"
      ],
      "text/plain": [
       "                           Airline  \\\n",
       "66   swiss-international-air-lines   \n",
       "89   swiss-international-air-lines   \n",
       "92   swiss-international-air-lines   \n",
       "95   swiss-international-air-lines   \n",
       "101  swiss-international-air-lines   \n",
       "104  swiss-international-air-lines   \n",
       "141  swiss-international-air-lines   \n",
       "166  swiss-international-air-lines   \n",
       "167  swiss-international-air-lines   \n",
       "172  swiss-international-air-lines   \n",
       "202  swiss-international-air-lines   \n",
       "205  swiss-international-air-lines   \n",
       "210  swiss-international-air-lines   \n",
       "211  swiss-international-air-lines   \n",
       "221  swiss-international-air-lines   \n",
       "228  swiss-international-air-lines   \n",
       "281  swiss-international-air-lines   \n",
       "284  swiss-international-air-lines   \n",
       "\n",
       "                                               link  \\\n",
       "66   /airline-reviews/swiss-international-air-lines   \n",
       "89   /airline-reviews/swiss-international-air-lines   \n",
       "92   /airline-reviews/swiss-international-air-lines   \n",
       "95   /airline-reviews/swiss-international-air-lines   \n",
       "101  /airline-reviews/swiss-international-air-lines   \n",
       "104  /airline-reviews/swiss-international-air-lines   \n",
       "141  /airline-reviews/swiss-international-air-lines   \n",
       "166  /airline-reviews/swiss-international-air-lines   \n",
       "167  /airline-reviews/swiss-international-air-lines   \n",
       "172  /airline-reviews/swiss-international-air-lines   \n",
       "202  /airline-reviews/swiss-international-air-lines   \n",
       "205  /airline-reviews/swiss-international-air-lines   \n",
       "210  /airline-reviews/swiss-international-air-lines   \n",
       "211  /airline-reviews/swiss-international-air-lines   \n",
       "221  /airline-reviews/swiss-international-air-lines   \n",
       "228  /airline-reviews/swiss-international-air-lines   \n",
       "281  /airline-reviews/swiss-international-air-lines   \n",
       "284  /airline-reviews/swiss-international-air-lines   \n",
       "\n",
       "                                    title               author  \\\n",
       "66   Swiss Intl Air Lines customer review              M Lingg   \n",
       "89   Swiss Intl Air Lines customer review           R Robinson   \n",
       "92   Swiss Intl Air Lines customer review        Edmond Mitraj   \n",
       "95   Swiss Intl Air Lines customer review               Y Wata   \n",
       "101  Swiss Intl Air Lines customer review              D Wayne   \n",
       "104  Swiss Intl Air Lines customer review       Benjamin Jilek   \n",
       "141  Swiss Intl Air Lines customer review            T Nielsen   \n",
       "166  Swiss Intl Air Lines customer review     Craig Cunningham   \n",
       "167  Swiss Intl Air Lines customer review      C Röthlisberger   \n",
       "172  Swiss Intl Air Lines customer review   Michele Borgarelli   \n",
       "202  Swiss Intl Air Lines customer review         Kotenev Vlad   \n",
       "205  Swiss Intl Air Lines customer review              G White   \n",
       "210  Swiss Intl Air Lines customer review          A Bogojevic   \n",
       "211  Swiss Intl Air Lines customer review  Claire-Lise Jaquier   \n",
       "221  Swiss Intl Air Lines customer review          Ajizu Shiei   \n",
       "228  Swiss Intl Air Lines customer review            A Aweidah   \n",
       "281  Swiss Intl Air Lines customer review            N Surtees   \n",
       "284  Swiss Intl Air Lines customer review          A Vanbergen   \n",
       "\n",
       "              author_country        date  \\\n",
       "66             Liechtenstein  2014-10-28   \n",
       "89            United Kingdom  2014-08-20   \n",
       "92      United Arab Emirates  2014-08-03   \n",
       "95                     Japan  2014-07-29   \n",
       "101            United States  2014-07-17   \n",
       "104            United States  2014-07-08   \n",
       "141              Switzerland  2014-02-07   \n",
       "166           United Kingdom  2013-12-13   \n",
       "167              Switzerland  2013-12-12   \n",
       "172            United States  2013-11-22   \n",
       "202            United States  2013-08-14   \n",
       "205              Switzerland  2013-08-06   \n",
       "210                Australia  2013-07-21   \n",
       "211              Switzerland  2013-07-18   \n",
       "221                Singapore  2013-06-26   \n",
       "228  Palestinian Territories  2013-06-11   \n",
       "281                Australia  2013-01-28   \n",
       "284              Netherlands  2013-01-15   \n",
       "\n",
       "                                               content aircraft  \\\n",
       "66   I've booked a J class ticket with LX from ZRH-...      NaN   \n",
       "89   We paid for 3 seats in Business Class and I ca...      NaN   \n",
       "92   26th June my colleague and I were flying from ...      NaN   \n",
       "95   July 24 Geneva-London (City). Breaking system ...      NaN   \n",
       "101  ZRH-NCE 08.55am departure 28 June 2014. Select...      NaN   \n",
       "104  My wife and I booked a flight on the Edelweiss...      NaN   \n",
       "141  Copenhagen to Hong Kong via Zurich. Flight out...      NaN   \n",
       "166  Flew from London City to Sao Paulo via Zurich ...      NaN   \n",
       "167  SIN-ZRH with my husband and two small children...      NaN   \n",
       "172  I travel about 100000 miles per year. This was...      NaN   \n",
       "202  Barcelona to Zurich on August 9 2013. Check in...      NaN   \n",
       "205  In the last year I have travelled SWISS about ...      NaN   \n",
       "210  Zurich-Singapore. A long 14 hour flight so dur...      NaN   \n",
       "211  Problems can happen it is just the way they ar...      NaN   \n",
       "221  Singapore to Zurich. The overall service was p...      NaN   \n",
       "228  TLV-ZRH-MAD and back flights between TLV-ZRH o...      NaN   \n",
       "281  Zurich to London. Very disappointed with Swiss...      NaN   \n",
       "284  Flew Zurich to Brussels and back in Economy - ...      NaN   \n",
       "\n",
       "    type_traveller cabin_flown route  overall_rating  seat_comfort_rating  \\\n",
       "66             NaN    Business   NaN             NaN                  0.0   \n",
       "89             NaN    Business   NaN             NaN                  2.0   \n",
       "92             NaN     Economy   NaN             NaN                  1.0   \n",
       "95             NaN     Economy   NaN             NaN                  3.0   \n",
       "101            NaN     Economy   NaN             NaN                  2.0   \n",
       "104            NaN     Economy   NaN             NaN                  2.0   \n",
       "141            NaN     Economy   NaN             NaN                  3.0   \n",
       "166            NaN    Business   NaN             NaN                  3.0   \n",
       "167            NaN     Economy   NaN             NaN                  3.0   \n",
       "172            NaN     Economy   NaN             NaN                  4.0   \n",
       "202            NaN     Economy   NaN             NaN                  2.0   \n",
       "205            NaN     Economy   NaN             NaN                  3.0   \n",
       "210            NaN     Economy   NaN             NaN                  1.0   \n",
       "211            NaN     Economy   NaN             NaN                  0.0   \n",
       "221            NaN     Economy   NaN             NaN                  2.0   \n",
       "228            NaN     Economy   NaN             NaN                  1.0   \n",
       "281            NaN     Economy   NaN             NaN                  1.0   \n",
       "284            NaN     Economy   NaN             NaN                  2.0   \n",
       "\n",
       "     cabin_staff_rating  food_beverages_rating  inflight_entertainment_rating  \\\n",
       "66                  1.0                    0.0                            0.0   \n",
       "89                  1.0                    3.0                            2.0   \n",
       "92                  1.0                    0.0                            0.0   \n",
       "95                  2.0                    2.0                            1.0   \n",
       "101                 1.0                    1.0                            1.0   \n",
       "104                 1.0                    1.0                            4.0   \n",
       "141                 1.0                    3.0                            3.0   \n",
       "166                 1.0                    1.0                            1.0   \n",
       "167                 1.0                    1.0                            2.0   \n",
       "172                 1.0                    4.0                            0.0   \n",
       "202                 2.0                    1.0                            1.0   \n",
       "205                 3.0                    2.0                            3.0   \n",
       "210                 2.0                    3.0                            1.0   \n",
       "211                 3.0                    0.0                            0.0   \n",
       "221                 1.0                    3.0                            3.0   \n",
       "228                 1.0                    1.0                            1.0   \n",
       "281                 1.0                    4.0                            3.0   \n",
       "284                 2.0                    2.0                            0.0   \n",
       "\n",
       "     ground_service_rating  wifi_connectivity_rating  value_money_rating  \\\n",
       "66                     NaN                       NaN                 1.0   \n",
       "89                     NaN                       NaN                 1.0   \n",
       "92                     NaN                       NaN                 1.0   \n",
       "95                     NaN                       NaN                 1.0   \n",
       "101                    NaN                       NaN                 1.0   \n",
       "104                    NaN                       NaN                 2.0   \n",
       "141                    NaN                       NaN                 2.0   \n",
       "166                    NaN                       NaN                 1.0   \n",
       "167                    NaN                       NaN                 3.0   \n",
       "172                    NaN                       NaN                 1.0   \n",
       "202                    NaN                       NaN                 1.0   \n",
       "205                    NaN                       NaN                 1.0   \n",
       "210                    NaN                       NaN                 1.0   \n",
       "211                    NaN                       NaN                 2.0   \n",
       "221                    NaN                       NaN                 1.0   \n",
       "228                    NaN                       NaN                 2.0   \n",
       "281                    NaN                       NaN                 0.0   \n",
       "284                    NaN                       NaN                 1.0   \n",
       "\n",
       "     recommended  \n",
       "66             0  \n",
       "89             0  \n",
       "92             0  \n",
       "95             0  \n",
       "101            0  \n",
       "104            0  \n",
       "141            0  \n",
       "166            0  \n",
       "167            0  \n",
       "172            0  \n",
       "202            0  \n",
       "205            0  \n",
       "210            0  \n",
       "211            0  \n",
       "221            0  \n",
       "228            0  \n",
       "281            0  \n",
       "284            0  "
      ]
     },
     "execution_count": 102,
     "metadata": {},
     "output_type": "execute_result"
    }
   ],
   "source": [
    "# get indices for rows with missing overall rating\n",
    "ratingNaNIndex = swiss[swiss['overall_rating'].isna()==True].index\n",
    "\n",
    "# show rows with NaN for overall_rating\n",
    "swiss.loc[ratingNaNIndex]"
   ]
  },
  {
   "cell_type": "code",
   "execution_count": 103,
   "id": "3341b601",
   "metadata": {},
   "outputs": [],
   "source": [
    "# replace NaNs for overall rating with mean of all other ratings\n",
    "#for index in ratingNaNIndex:\n",
    "#    replaceValue = swiss[['seat_comfort_rating','cabin_staff_rating','food_beverages_rating',\n",
    "#                          'inflight_entertainment_rating','value_money_rating']].iloc[index].mean()\n",
    "#    swiss.loc[index,'overall_rating'] = max(np.around(replaceValue),1)\n",
    "\n",
    "# show replaced values\n",
    "#swiss.loc[ratingNaNIndex]"
   ]
  },
  {
   "cell_type": "code",
   "execution_count": 104,
   "id": "013f36ec",
   "metadata": {},
   "outputs": [],
   "source": [
    "assert lhGroup['swiss'].isna().sum().sum() == 0, \"There are still NaN values in dataset\""
   ]
  },
  {
   "cell_type": "code",
   "execution_count": 168,
   "id": "3b7548df",
   "metadata": {},
   "outputs": [
    {
     "data": {
      "image/png": "[encoded data removed]",
      "text/plain": [
       "<Figure size 576x288 with 2 Axes>"
      ]
     },
     "metadata": {
      "needs_background": "light"
     },
     "output_type": "display_data"
    }
   ],
   "source": [
    "figRate, axRate = plt.subplots(1,2, figsize=(8,4))\n",
    "lhGroup['swiss']['overall_rating'].hist(ax=axRate[0])\n",
    "fiveStar['sia']['overall_rating'].hist(ax=axRate[1])\n",
    "\n",
    "for i in range(2):\n",
    "    axRate[i].set_ylim(0, 150)"
   ]
  },
  {
   "cell_type": "markdown",
   "id": "78ac9642",
   "metadata": {},
   "source": [
    "## Analyse"
   ]
  },
  {
   "cell_type": "code",
   "execution_count": 105,
   "id": "15e3073a",
   "metadata": {},
   "outputs": [],
   "source": [
    "airline1 = fiveStar['asiana']\n",
    "airline2 = lhGroup['swiss']"
   ]
  },
  {
   "cell_type": "code",
   "execution_count": 106,
   "id": "2bd0550c",
   "metadata": {},
   "outputs": [
    {
     "data": {
      "text/plain": [
       "<AxesSubplot:xlabel='cabin_flown'>"
      ]
     },
     "execution_count": 106,
     "metadata": {},
     "output_type": "execute_result"
    },
    {
     "data": {
      "image/png": "[encoded data removed]",
      "text/plain": [
       "<Figure size 432x288 with 1 Axes>"
      ]
     },
     "metadata": {
      "needs_background": "light"
     },
     "output_type": "display_data"
    },
    {
     "data": {
      "image/png": "[encoded data removed]",
      "text/plain": [
       "<Figure size 432x288 with 1 Axes>"
      ]
     },
     "metadata": {
      "needs_background": "light"
     },
     "output_type": "display_data"
    }
   ],
   "source": [
    "pd.crosstab(airline1['cabin_flown'],airline1['recommended'], normalize=False).plot.bar(stacked=True)\n",
    "pd.crosstab(airline2['cabin_flown'],airline2['recommended'], normalize=False).plot.bar(stacked=True)\n",
    "# Wie viel Prozent der Reisenden empfehlen Produkt weiter?"
   ]
  },
  {
   "cell_type": "code",
   "execution_count": 107,
   "id": "bd93c7a9",
   "metadata": {},
   "outputs": [
    {
     "data": {
      "text/plain": [
       "<AxesSubplot:xlabel='cabin_flown', ylabel='count'>"
      ]
     },
     "execution_count": 107,
     "metadata": {},
     "output_type": "execute_result"
    },
    {
     "data": {
      "image/png": "[encoded data removed]",
      "text/plain": [
       "<Figure size 432x288 with 1 Axes>"
      ]
     },
     "metadata": {
      "needs_background": "light"
     },
     "output_type": "display_data"
    }
   ],
   "source": [
    "sns.countplot(x=airline2['cabin_flown'])"
   ]
  },
  {
   "cell_type": "code",
   "execution_count": 147,
   "id": "b32d6059",
   "metadata": {},
   "outputs": [
    {
     "ename": "KeyError",
     "evalue": "'date'",
     "output_type": "error",
     "traceback": [
      "\u001b[0;31m---------------------------------------------------------------------------\u001b[0m",
      "\u001b[0;31mKeyError\u001b[0m                                  Traceback (most recent call last)",
      "File \u001b[0;32m~/anaconda3/envs/firefly/lib/python3.10/site-packages/pandas/core/indexes/base.py:3621\u001b[0m, in \u001b[0;36mIndex.get_loc\u001b[0;34m(self, key, method, tolerance)\u001b[0m\n\u001b[1;32m   3620\u001b[0m \u001b[38;5;28;01mtry\u001b[39;00m:\n\u001b[0;32m-> 3621\u001b[0m     \u001b[38;5;28;01mreturn\u001b[39;00m \u001b[38;5;28;43mself\u001b[39;49m\u001b[38;5;241;43m.\u001b[39;49m\u001b[43m_engine\u001b[49m\u001b[38;5;241;43m.\u001b[39;49m\u001b[43mget_loc\u001b[49m\u001b[43m(\u001b[49m\u001b[43mcasted_key\u001b[49m\u001b[43m)\u001b[49m\n\u001b[1;32m   3622\u001b[0m \u001b[38;5;28;01mexcept\u001b[39;00m \u001b[38;5;167;01mKeyError\u001b[39;00m \u001b[38;5;28;01mas\u001b[39;00m err:\n",
      "File \u001b[0;32m~/anaconda3/envs/firefly/lib/python3.10/site-packages/pandas/_libs/index.pyx:136\u001b[0m, in \u001b[0;36mpandas._libs.index.IndexEngine.get_loc\u001b[0;34m()\u001b[0m\n",
      "File \u001b[0;32m~/anaconda3/envs/firefly/lib/python3.10/site-packages/pandas/_libs/index.pyx:163\u001b[0m, in \u001b[0;36mpandas._libs.index.IndexEngine.get_loc\u001b[0;34m()\u001b[0m\n",
      "File \u001b[0;32mpandas/_libs/hashtable_class_helper.pxi:5198\u001b[0m, in \u001b[0;36mpandas._libs.hashtable.PyObjectHashTable.get_item\u001b[0;34m()\u001b[0m\n",
      "File \u001b[0;32mpandas/_libs/hashtable_class_helper.pxi:5206\u001b[0m, in \u001b[0;36mpandas._libs.hashtable.PyObjectHashTable.get_item\u001b[0;34m()\u001b[0m\n",
      "\u001b[0;31mKeyError\u001b[0m: 'date'",
      "\nThe above exception was the direct cause of the following exception:\n",
      "\u001b[0;31mKeyError\u001b[0m                                  Traceback (most recent call last)",
      "Input \u001b[0;32mIn [147]\u001b[0m, in \u001b[0;36m<cell line: 2>\u001b[0;34m()\u001b[0m\n\u001b[1;32m      1\u001b[0m \u001b[38;5;66;03m#qatar.loc[qatar['cabin_flown']=='First'].content\u001b[39;00m\n\u001b[0;32m----> 2\u001b[0m lhGroup[\u001b[38;5;124m'\u001b[39m\u001b[38;5;124mswiss\u001b[39m\u001b[38;5;124m'\u001b[39m][\u001b[38;5;124m'\u001b[39m\u001b[38;5;124mdate\u001b[39m\u001b[38;5;124m'\u001b[39m] \u001b[38;5;241m=\u001b[39m pd\u001b[38;5;241m.\u001b[39mto_datetime(\u001b[43mlhGroup\u001b[49m\u001b[43m[\u001b[49m\u001b[38;5;124;43m'\u001b[39;49m\u001b[38;5;124;43mswiss\u001b[39;49m\u001b[38;5;124;43m'\u001b[39;49m\u001b[43m]\u001b[49m\u001b[43m[\u001b[49m\u001b[38;5;124;43m'\u001b[39;49m\u001b[38;5;124;43mdate\u001b[39;49m\u001b[38;5;124;43m'\u001b[39;49m\u001b[43m]\u001b[49m, dayfirst\u001b[38;5;241m=\u001b[39m\u001b[38;5;28;01mTrue\u001b[39;00m)\n\u001b[1;32m      3\u001b[0m \u001b[38;5;66;03m#lhGroup['swiss'].loc['2015']\u001b[39;00m\n\u001b[1;32m      4\u001b[0m lhGroup[\u001b[38;5;124m'\u001b[39m\u001b[38;5;124mswiss\u001b[39m\u001b[38;5;124m'\u001b[39m] \u001b[38;5;241m=\u001b[39m lhGroup[\u001b[38;5;124m'\u001b[39m\u001b[38;5;124mswiss\u001b[39m\u001b[38;5;124m'\u001b[39m]\u001b[38;5;241m.\u001b[39mmonth\n",
      "File \u001b[0;32m~/anaconda3/envs/firefly/lib/python3.10/site-packages/pandas/core/frame.py:3505\u001b[0m, in \u001b[0;36mDataFrame.__getitem__\u001b[0;34m(self, key)\u001b[0m\n\u001b[1;32m   3503\u001b[0m \u001b[38;5;28;01mif\u001b[39;00m \u001b[38;5;28mself\u001b[39m\u001b[38;5;241m.\u001b[39mcolumns\u001b[38;5;241m.\u001b[39mnlevels \u001b[38;5;241m>\u001b[39m \u001b[38;5;241m1\u001b[39m:\n\u001b[1;32m   3504\u001b[0m     \u001b[38;5;28;01mreturn\u001b[39;00m \u001b[38;5;28mself\u001b[39m\u001b[38;5;241m.\u001b[39m_getitem_multilevel(key)\n\u001b[0;32m-> 3505\u001b[0m indexer \u001b[38;5;241m=\u001b[39m \u001b[38;5;28;43mself\u001b[39;49m\u001b[38;5;241;43m.\u001b[39;49m\u001b[43mcolumns\u001b[49m\u001b[38;5;241;43m.\u001b[39;49m\u001b[43mget_loc\u001b[49m\u001b[43m(\u001b[49m\u001b[43mkey\u001b[49m\u001b[43m)\u001b[49m\n\u001b[1;32m   3506\u001b[0m \u001b[38;5;28;01mif\u001b[39;00m is_integer(indexer):\n\u001b[1;32m   3507\u001b[0m     indexer \u001b[38;5;241m=\u001b[39m [indexer]\n",
      "File \u001b[0;32m~/anaconda3/envs/firefly/lib/python3.10/site-packages/pandas/core/indexes/base.py:3623\u001b[0m, in \u001b[0;36mIndex.get_loc\u001b[0;34m(self, key, method, tolerance)\u001b[0m\n\u001b[1;32m   3621\u001b[0m     \u001b[38;5;28;01mreturn\u001b[39;00m \u001b[38;5;28mself\u001b[39m\u001b[38;5;241m.\u001b[39m_engine\u001b[38;5;241m.\u001b[39mget_loc(casted_key)\n\u001b[1;32m   3622\u001b[0m \u001b[38;5;28;01mexcept\u001b[39;00m \u001b[38;5;167;01mKeyError\u001b[39;00m \u001b[38;5;28;01mas\u001b[39;00m err:\n\u001b[0;32m-> 3623\u001b[0m     \u001b[38;5;28;01mraise\u001b[39;00m \u001b[38;5;167;01mKeyError\u001b[39;00m(key) \u001b[38;5;28;01mfrom\u001b[39;00m \u001b[38;5;21;01merr\u001b[39;00m\n\u001b[1;32m   3624\u001b[0m \u001b[38;5;28;01mexcept\u001b[39;00m \u001b[38;5;167;01mTypeError\u001b[39;00m:\n\u001b[1;32m   3625\u001b[0m     \u001b[38;5;66;03m# If we have a listlike key, _check_indexing_error will raise\u001b[39;00m\n\u001b[1;32m   3626\u001b[0m     \u001b[38;5;66;03m#  InvalidIndexError. Otherwise we fall through and re-raise\u001b[39;00m\n\u001b[1;32m   3627\u001b[0m     \u001b[38;5;66;03m#  the TypeError.\u001b[39;00m\n\u001b[1;32m   3628\u001b[0m     \u001b[38;5;28mself\u001b[39m\u001b[38;5;241m.\u001b[39m_check_indexing_error(key)\n",
      "\u001b[0;31mKeyError\u001b[0m: 'date'"
     ]
    }
   ],
   "source": [
    "#qatar.loc[qatar['cabin_flown']=='First'].content\n",
    "lhGroup['swiss']['date'] = pd.to_datetime(lhGroup['swiss']['date'], dayfirst=True)\n",
    "#lhGroup['swiss'].loc['2015']\n",
    "lhGroup['swiss'] = lhGroup['swiss'].month\n",
    "#lhGroup['swiss']#.loc['2015']"
   ]
  },
  {
   "cell_type": "code",
   "execution_count": 146,
   "id": "cd557760",
   "metadata": {},
   "outputs": [
    {
     "data": {
      "text/plain": [
       "DatetimeIndex(['2015-07-31', '2015-07-27', '2015-07-25', '2015-07-23',\n",
       "               '2015-07-17', '2015-07-13', '2015-07-10', '2015-07-10',\n",
       "               '2015-07-06', '2015-07-02',\n",
       "               ...\n",
       "               '2012-09-05', '2012-09-05', '2012-09-05', '2012-09-04',\n",
       "               '2012-09-03', '2012-08-30', '2012-08-30', '2012-08-28',\n",
       "               '2012-08-23', '2012-08-23'],\n",
       "              dtype='datetime64[ns]', name='date', length=336, freq=None)"
      ]
     },
     "execution_count": 146,
     "metadata": {},
     "output_type": "execute_result"
    }
   ],
   "source": [
    "lhGroup['swiss'].index"
   ]
  },
  {
   "cell_type": "code",
   "execution_count": 109,
   "id": "eccf39cf",
   "metadata": {},
   "outputs": [],
   "source": [
    "# Create data set and color palette for LH-group\n",
    "\n",
    "groupPalette = {'Lufthansa' : lhBlue, 'Swiss' : lxRed, 'Austrian' : 'lightblue'}\n",
    "\n",
    "groupSet = pd.concat([lhGroup['swiss'], lhGroup['lufthansa'], lhGroup['austrian']])\n",
    "groupSet.replace(to_replace={'Airline' : 'swiss-international-air-lines'}, value='Swiss', inplace=True)\n",
    "groupSet.replace(to_replace={'Airline' : 'austrian-airlines'}, value='Austrian', inplace=True)\n",
    "groupSet.replace(to_replace={'Airline' : 'lufthansa'}, value='Lufthansa', inplace=True)\n",
    "\n",
    "# Create data set and color palette for 5-Star airlines\n",
    "\n",
    "fiveStarPalette = {'Swiss' : lxRed, 'Singapore' : siaOrange,\n",
    "                   'Cathay' : cathayGreen, 'Qatar' : qatarGrey, 'Garuda' : garudaBlue}\n",
    "\n",
    "fiveStarSet = pd.concat([lhGroup['swiss'], fiveStar['sia'],\n",
    "                     fiveStar['cathay'], fiveStar['qatar'], fiveStar['garuda']])\n",
    "\n",
    "fiveStarSet.replace(to_replace={'Airline' : 'singapore-airlines'}, value='Singapore', inplace=True)\n",
    "fiveStarSet.replace(to_replace={'Airline' : 'cathay-pacific-airways'}, value='Cathay', inplace=True)\n",
    "fiveStarSet.replace(to_replace={'Airline' : 'qatar-airways'}, value='Qatar', inplace=True)\n",
    "fiveStarSet.replace(to_replace={'Airline' : 'swiss-international-air-lines'}, value='Swiss', inplace=True)\n",
    "fiveStarSet.replace(to_replace={'Airline' : 'garuda-indonesia'}, value='Garuda', inplace=True)\n",
    "\n",
    "# Create data set and color palette for 5-Star airlines\n",
    "\n",
    "legacyPalette = {'Swiss' : lxRed, 'American' : americanGray, 'United' : unitedBlue, 'Delta' : deltaBlue}\n",
    "\n",
    "legacySet = pd.concat([lhGroup['swiss'], legacyCarrier['united'],\n",
    "                     legacyCarrier['delta'], legacyCarrier['american']])\n",
    "\n",
    "legacySet.replace(to_replace={'Airline' : 'united-airlines'}, value='United', inplace=True)\n",
    "legacySet.replace(to_replace={'Airline' : 'delta-air-lines'}, value='Delta', inplace=True)\n",
    "legacySet.replace(to_replace={'Airline' : 'american-airlines'}, value='American', inplace=True)\n",
    "legacySet.replace(to_replace={'Airline' : 'swiss-international-air-lines'}, value='Swiss', inplace=True)"
   ]
  },
  {
   "cell_type": "code",
   "execution_count": 110,
   "id": "6a5b6c86",
   "metadata": {},
   "outputs": [
    {
     "data": {
      "image/png": "[encoded data removed]",
      "text/plain": [
       "<Figure size 432x432 with 1 Axes>"
      ]
     },
     "metadata": {
      "needs_background": "light"
     },
     "output_type": "display_data"
    }
   ],
   "source": [
    "g = sns.catplotg = sns.catplot(\n",
    "    data=groupSet, kind=\"bar\",\n",
    "    x=\"cabin_flown\", y=\"overall_rating\", hue=\"Airline\", palette=groupPalette,\n",
    "    height=6, ci=None, legend_out=False\n",
    ")\n",
    "g.ax.set_xlabel('Cabin Class', fontsize=14)\n",
    "g.ax.set_ylabel('Overall Rating', fontsize=14)\n",
    "g.ax.set_title('Overall rating: SWISS vs. LH-Group',fontsize=16)\n",
    "g.ax.set_ylim(0,10)\n",
    "g.fig.tight_layout()"
   ]
  },
  {
   "cell_type": "code",
   "execution_count": 29,
   "id": "5d21d0fd",
   "metadata": {},
   "outputs": [
    {
     "data": {
      "text/plain": [
       "(0.0, 10.0)"
      ]
     },
     "execution_count": 29,
     "metadata": {},
     "output_type": "execute_result"
    },
    {
     "data": {
      "image/png": "[encoded data removed]",
      "text/plain": [
       "<Figure size 518.25x432 with 1 Axes>"
      ]
     },
     "metadata": {
      "needs_background": "light"
     },
     "output_type": "display_data"
    }
   ],
   "source": [
    "g = sns.catplot(\n",
    "    data=fiveStarSet, kind=\"bar\",\n",
    "    x=\"cabin_flown\", y=\"overall_rating\", hue=\"Airline\", palette=fiveStarPalette,\n",
    "    height=6, ci=None, #legend_out=False\n",
    ")\n",
    "\n",
    "g.ax.set_xlabel('Cabin Class', fontsize=14)\n",
    "g.ax.set_ylabel('Overall Rating', fontsize=14)\n",
    "g.ax.set_title('Overall rating: SWISS vs. 5-Star Airlines',fontsize=16)\n",
    "g.ax.set_ylim(0,10)\n",
    "#g.fig.tight_layout()"
   ]
  },
  {
   "cell_type": "code",
   "execution_count": 30,
   "id": "5fd41086",
   "metadata": {},
   "outputs": [
    {
     "data": {
      "text/plain": [
       "(0.0, 10.0)"
      ]
     },
     "execution_count": 30,
     "metadata": {},
     "output_type": "execute_result"
    },
    {
     "data": {
      "image/png": "[encoded data removed]",
      "text/plain": [
       "<Figure size 515.625x432 with 1 Axes>"
      ]
     },
     "metadata": {
      "needs_background": "light"
     },
     "output_type": "display_data"
    }
   ],
   "source": [
    "g = sns.catplot(\n",
    "    data=legacySet, kind=\"bar\",\n",
    "    x=\"cabin_flown\", y=\"overall_rating\", hue=\"Airline\", palette=legacyPalette,\n",
    "    height=6, ci=None, #legend_out=False\n",
    ")\n",
    "\n",
    "g.ax.set_xlabel('Cabin Class', fontsize=14)\n",
    "g.ax.set_ylabel('Overall Rating', fontsize=14)\n",
    "g.ax.set_title('Overall rating: SWISS vs. Legacy Carrier',fontsize=16)\n",
    "g.ax.set_ylim(0,10)\n",
    "#g.fig.tight_layout()"
   ]
  },
  {
   "cell_type": "code",
   "execution_count": 43,
   "id": "f3c8c6b1",
   "metadata": {},
   "outputs": [],
   "source": [
    "# drop data for premium economy, as SWISS did not have a premium eco in 2015\n",
    "\n",
    "fiveStarSet = fiveStarSet[fiveStarSet.cabin_flown != 'Premium Economy']"
   ]
  },
  {
   "cell_type": "code",
   "execution_count": 45,
   "id": "f05be42e",
   "metadata": {},
   "outputs": [
    {
     "data": {
      "text/plain": [
       "(0.0, 5.0)"
      ]
     },
     "execution_count": 45,
     "metadata": {},
     "output_type": "execute_result"
    },
    {
     "data": {
      "image/png": "[encoded data removed]",
      "text/plain": [
       "<Figure size 518.25x432 with 1 Axes>"
      ]
     },
     "metadata": {
      "needs_background": "light"
     },
     "output_type": "display_data"
    }
   ],
   "source": [
    "g = sns.catplot(\n",
    "    data=fiveStarSet, kind=\"bar\",\n",
    "    x=\"cabin_flown\", y=\"seat_comfort_rating\", hue=\"Airline\", palette=fiveStarPalette,\n",
    "    height=6, ci=None, #legend_out=False\n",
    ")\n",
    "\n",
    "g.ax.set_xlabel('Cabin Class', fontsize=14)\n",
    "g.ax.set_ylabel('Seat comfort', fontsize=14)\n",
    "g.ax.set_title('Seat comfort: SWISS vs. 5-Star Airlines',fontsize=16)\n",
    "g.ax.set_ylim(0,5)\n",
    "#g.fig.tight_layout()"
   ]
  },
  {
   "cell_type": "code",
   "execution_count": 47,
   "id": "46784ded",
   "metadata": {},
   "outputs": [
    {
     "data": {
      "text/plain": [
       "(0.0, 5.0)"
      ]
     },
     "execution_count": 47,
     "metadata": {},
     "output_type": "execute_result"
    },
    {
     "data": {
      "image/png": "[encoded data removed]",
      "text/plain": [
       "<Figure size 518.25x432 with 1 Axes>"
      ]
     },
     "metadata": {
      "needs_background": "light"
     },
     "output_type": "display_data"
    }
   ],
   "source": [
    "g = sns.catplot(\n",
    "    data=fiveStarSet, kind=\"bar\",\n",
    "    x=\"cabin_flown\", y=\"cabin_staff_rating\", hue=\"Airline\", palette=fiveStarPalette,\n",
    "    height=6, ci=None, #legend_out=False\n",
    ")\n",
    "\n",
    "g.ax.set_xlabel('Cabin Class', fontsize=14)\n",
    "g.ax.set_ylabel('Cabin staff', fontsize=14)\n",
    "g.ax.set_title('Cabin staff: SWISS vs. 5-Star Airlines',fontsize=16)\n",
    "g.ax.set_ylim(0,5)\n",
    "#g.fig.tight_layout()"
   ]
  },
  {
   "cell_type": "code",
   "execution_count": 50,
   "id": "b0240b73",
   "metadata": {},
   "outputs": [
    {
     "data": {
      "text/plain": [
       "(0.0, 5.0)"
      ]
     },
     "execution_count": 50,
     "metadata": {},
     "output_type": "execute_result"
    },
    {
     "data": {
      "image/png": "[encoded data removed]",
      "text/plain": [
       "<Figure size 518.25x432 with 1 Axes>"
      ]
     },
     "metadata": {
      "needs_background": "light"
     },
     "output_type": "display_data"
    }
   ],
   "source": [
    "g = sns.catplot(\n",
    "    data=fiveStarSet, kind=\"bar\",\n",
    "    x=\"cabin_flown\", y=\"food_beverages_rating\", hue=\"Airline\", palette=fiveStarPalette,\n",
    "    height=6, ci=None, #legend_out=False\n",
    ")\n",
    "\n",
    "g.ax.set_xlabel('Cabin Class', fontsize=14)\n",
    "g.ax.set_ylabel('Cabin staff', fontsize=14)\n",
    "g.ax.set_title('Food & Beverages: SWISS vs. 5-Star Airlines',fontsize=16)\n",
    "g.ax.set_ylim(0,5)\n",
    "#g.fig.tight_layout()"
   ]
  },
  {
   "cell_type": "code",
   "execution_count": 40,
   "id": "bcfe9ff2",
   "metadata": {},
   "outputs": [
    {
     "data": {
      "text/plain": [
       "(0.0, 5.0)"
      ]
     },
     "execution_count": 40,
     "metadata": {},
     "output_type": "execute_result"
    },
    {
     "data": {
      "image/png": "[encoded data removed]",
      "text/plain": [
       "<Figure size 518.25x432 with 1 Axes>"
      ]
     },
     "metadata": {
      "needs_background": "light"
     },
     "output_type": "display_data"
    }
   ],
   "source": [
    "g = sns.catplot(\n",
    "    data=fiveStarSet, kind=\"bar\",\n",
    "    x=\"cabin_flown\", y=\"inflight_entertainment_rating\", hue=\"Airline\", palette=fiveStarPalette,\n",
    "    height=6, ci=None, #legend_out=False\n",
    ")\n",
    "\n",
    "g.ax.set_xlabel('Cabin Class', fontsize=14)\n",
    "g.ax.set_ylabel('IFE Rating', fontsize=14)\n",
    "g.ax.set_title('IFE rating: SWISS vs. 5-Star Airlines',fontsize=16)\n",
    "g.ax.set_ylim(0,5)\n",
    "#g.fig.tight_layout()"
   ]
  },
  {
   "cell_type": "code",
   "execution_count": 52,
   "id": "cbb020d0",
   "metadata": {},
   "outputs": [
    {
     "data": {
      "text/plain": [
       "(0.0, 5.0)"
      ]
     },
     "execution_count": 52,
     "metadata": {},
     "output_type": "execute_result"
    },
    {
     "data": {
      "image/png": "[encoded data removed]",
      "text/plain": [
       "<Figure size 518.25x432 with 1 Axes>"
      ]
     },
     "metadata": {
      "needs_background": "light"
     },
     "output_type": "display_data"
    }
   ],
   "source": [
    "g = sns.catplot(\n",
    "    data=fiveStarSet, kind=\"bar\",\n",
    "    x=\"cabin_flown\", y=\"value_money_rating\", hue=\"Airline\", palette=fiveStarPalette,\n",
    "    height=6, ci=None, #legend_out=False\n",
    ")\n",
    "\n",
    "g.ax.set_xlabel('Cabin Class', fontsize=14)\n",
    "g.ax.set_ylabel('Value-money Rating', fontsize=14)\n",
    "g.ax.set_title('Value-money rating: SWISS vs. 5-Star Airlines',fontsize=16)\n",
    "g.ax.set_ylim(0,5)\n",
    "#g.fig.tight_layout()"
   ]
  },
  {
   "cell_type": "code",
   "execution_count": null,
   "id": "249584d9",
   "metadata": {},
   "outputs": [],
   "source": [
    "g = sns.catplot(\n",
    "    data=fiveStarSet, kind=\"bar\",\n",
    "    x=\"cabin_flown\", y=\"seat_comfort_rating\", hue=\"Airline\", palette=fiveStarPalette,\n",
    "    height=6, ci=None, #legend_out=False\n",
    ")\n",
    "\n",
    "g.ax.set_xlabel('Cabin Class', fontsize=14)\n",
    "g.ax.set_ylabel('IFE Rating', fontsize=14)\n",
    "g.ax.set_title('IFE rating: SWISS vs. 5-Star Airlines',fontsize=16)\n",
    "g.ax.set_ylim(0,5)\n",
    "#g.fig.tight_layout()"
   ]
  },
  {
   "cell_type": "code",
   "execution_count": 32,
   "id": "10e40da9",
   "metadata": {},
   "outputs": [
    {
     "data": {
      "text/plain": [
       "<AxesSubplot:xlabel='cabin_flown', ylabel='overall_rating'>"
      ]
     },
     "execution_count": 32,
     "metadata": {},
     "output_type": "execute_result"
    },
    {
     "data": {
      "image/png": "[encoded data removed]",
      "text/plain": [
       "<Figure size 432x288 with 1 Axes>"
      ]
     },
     "metadata": {
      "needs_background": "light"
     },
     "output_type": "display_data"
    }
   ],
   "source": [
    "sns.barplot(data=lhGroup['swiss'], x=\"cabin_flown\", y=\"overall_rating\")"
   ]
  },
  {
   "cell_type": "code",
   "execution_count": 33,
   "id": "9e2b9fe3",
   "metadata": {
    "scrolled": true
   },
   "outputs": [
    {
     "name": "stdout",
     "output_type": "stream",
     "text": [
      "2.494266950547911\n",
      "3.042318893644798\n"
     ]
    }
   ],
   "source": [
    "swiss = lhGroup['swiss']\n",
    "sia = fiveStar['sia']\n",
    "print(sia[sia['cabin_flown']==\"Economy\"]['overall_rating'].std())\n",
    "print(swiss[swiss['cabin_flown']==\"Economy\"]['overall_rating'].std())"
   ]
  },
  {
   "cell_type": "code",
   "execution_count": 34,
   "id": "aa5fddbc",
   "metadata": {},
   "outputs": [
    {
     "data": {
      "image/png": "[encoded data removed]",
      "text/plain": [
       "<Figure size 1080x720 with 6 Axes>"
      ]
     },
     "metadata": {
      "needs_background": "light"
     },
     "output_type": "display_data"
    }
   ],
   "source": [
    "airline = lhGroup['swiss']\n",
    "\n",
    "fig0, ax0 = plt.subplots(2,3, figsize=(15,10))\n",
    "fig0.suptitle(\"Individual ratings vs. overall rating\", fontsize=14)\n",
    "colorMap = {0:neg, 1:pos}\n",
    "#colorMap = {0:'r', 1:'k'}\n",
    "\n",
    "xValue = airline['overall_rating']\n",
    "yValue = [airline['inflight_entertainment_rating'], airline['seat_comfort_rating'], \n",
    "          airline['cabin_staff_rating'], airline['food_beverages_rating'],\n",
    "          airline['value_money_rating'], airline['overall_rating']]\n",
    "\n",
    "for i in range(2):\n",
    "    for j in range(3):\n",
    "        idx = 3*i + j\n",
    "        \n",
    "        jittered_y = xValue + 0.2 * np.random.rand(len(xValue)) -0.1\n",
    "        jittered_x = yValue[idx] + 0.2 * np.random.rand(len(yValue[idx])) -0.1\n",
    "        \n",
    "        ax0[i][j].scatter(jittered_y, jittered_x, c=swiss['recommended'].map(colorMap))\n",
    "        \n",
    "        ax0[i][j].grid()\n",
    "        ax0[i][j].set_xlabel(\"Overall rating\")\n",
    "        ax0[i][j].set_ylabel(yValue[idx].name)\n",
    "\n",
    "fig0.tight_layout()"
   ]
  },
  {
   "cell_type": "code",
   "execution_count": 35,
   "id": "e84e2c9c",
   "metadata": {},
   "outputs": [
    {
     "data": {
      "image/png": "[encoded data removed]",
      "text/plain": [
       "<Figure size 288x288 with 1 Axes>"
      ]
     },
     "metadata": {
      "needs_background": "light"
     },
     "output_type": "display_data"
    }
   ],
   "source": [
    "fig0, ax0 = plt.subplots(1,1, figsize=(4,4))\n",
    "\n",
    "colorMap = {0: neg, 1: pos}\n",
    "\n",
    "ax0.hist(swiss['overall_rating'])\n",
    "ax0.grid()\n",
    "#ax0.legend()"
   ]
  },
  {
   "cell_type": "code",
   "execution_count": 36,
   "id": "387e05c6",
   "metadata": {},
   "outputs": [
    {
     "data": {
      "image/png": "[encoded data removed]",
      "text/plain": [
       "<Figure size 720x360 with 2 Axes>"
      ]
     },
     "metadata": {
      "needs_background": "light"
     },
     "output_type": "display_data"
    }
   ],
   "source": [
    "# Leitfrage: Welcher Faktor beeinflusst die Gesamtbewertung am meisten\n",
    "df_corr = groupSet.corr()\n",
    "\n",
    "\n",
    "colormap = plt.cm.Blues\n",
    "\n",
    "fig17, ax17 = plt.subplots(figsize=(10,5))\n",
    "\n",
    "fig17.suptitle(u'Crosscorrelation', y=1.05, size=16)\n",
    "\n",
    "mask = np.zeros_like(df_corr)\n",
    "mask[np.triu_indices_from(mask)] = True\n",
    "\n",
    "svm = sns.heatmap(df_corr, mask=mask, linewidths=0.1,vmin= 0, vmax=1.0, \n",
    "            square=True, cmap=colormap, linecolor='white', annot=True)"
   ]
  },
  {
   "cell_type": "code",
   "execution_count": 37,
   "id": "e847e5f3",
   "metadata": {},
   "outputs": [],
   "source": [
    "# Ideas: perform binary classification on recommendation"
   ]
  },
  {
   "cell_type": "code",
   "execution_count": 38,
   "id": "c009d11d",
   "metadata": {},
   "outputs": [],
   "source": [
    "# Multivariate regression on overall rating"
   ]
  },
  {
   "cell_type": "code",
   "execution_count": 39,
   "id": "0c1f1bdb",
   "metadata": {},
   "outputs": [],
   "source": [
    "def get_airline_data(name):\n",
    "    \n",
    "    data = pd.read_csv('./data/airline.csv')\n",
    "    airlineData = data[data[\"airline_name\"] == name]\n",
    "    print(f\"Der Datensatz enthält {len(airlineData)} Datenpunkte\")\n",
    "    airlineData = airlineData.reset_index(drop=True)\n",
    "    \n",
    "    return airlineData"
   ]
  }
 ],
 "metadata": {
  "kernelspec": {
   "display_name": "Python 3 (ipykernel)",
   "language": "python",
   "name": "python3"
  },
  "language_info": {
   "codemirror_mode": {
    "name": "ipython",
    "version": 3
   },
   "file_extension": ".py",
   "mimetype": "text/x-python",
   "name": "python",
   "nbconvert_exporter": "python",
   "pygments_lexer": "ipython3",
   "version": "3.10.4"
  }
 },
 "nbformat": 4,
 "nbformat_minor": 5
}
